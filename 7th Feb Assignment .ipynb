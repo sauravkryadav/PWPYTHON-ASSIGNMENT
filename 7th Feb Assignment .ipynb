{
 "cells": [
  {
   "cell_type": "code",
   "execution_count": 7,
   "id": "fefea0dc",
   "metadata": {},
   "outputs": [
    {
     "name": "stdout",
     "output_type": "stream",
     "text": [
      "Enter your password:9RJkr1&#@4\n",
      "Valid Password\n"
     ]
    }
   ],
   "source": [
    "#Q1\n",
    "def checkPassword(password):\n",
    "    l_count = 0  #l for storing lower case letter counting\n",
    "    u_count = 0   #u for storing upper case letter counting\n",
    "    n_count = 0   #n for storing upper case letter counting\n",
    "    s_count = 0   #s for special character letter counting\n",
    "    \n",
    "    if len(password) != 10:\n",
    "        return \"Invalid Password\"\n",
    "    \n",
    "    for char in password:\n",
    "        if char.islower():\n",
    "            l_count += 1\n",
    "        elif char.isupper():\n",
    "            u_count += 1\n",
    "        elif char.isnumeric():\n",
    "            n_count += 1\n",
    "        else:\n",
    "            s_count += 1\n",
    " \n",
    "    # Checking the requiremnets that are given that is at least 2 upper case letter or lowercase letter\n",
    "    # password contain at least a number and 3 special char\n",
    "    #password length sholud be 10 character long\n",
    "    if l_count >= 2 and u_count >= 2 and n_count >= 1 and s_count >= 3:\n",
    "        return \"Valid Password\"\n",
    "    else:\n",
    "        return \"Invalid Password\"\n",
    " \n",
    "password = input(\"Enter your password:\")\n",
    "print(checkPassword(password))"
   ]
  },
  {
   "cell_type": "code",
   "execution_count": 8,
   "id": "095dac8e",
   "metadata": {},
   "outputs": [
    {
     "name": "stdout",
     "output_type": "stream",
     "text": [
      "Enter your String=rajkumar\n",
      "Enter your letter for matching =r\n",
      "matched\n"
     ]
    },
    {
     "data": {
      "text/plain": [
       "[None]"
      ]
     },
     "execution_count": 8,
     "metadata": {},
     "output_type": "execute_result"
    }
   ],
   "source": [
    "#Q2\n",
    "#A CHECK IF THE STRING STARTS WITH A PARTICULAR LETTER\n",
    "st=input(\"Enter your String=\")\n",
    "l=input(\"Enter your letter for matching =\")\n",
    "\n",
    "[print(\"matched\") if st[0]==l else print(\"not match\")]\n"
   ]
  },
  {
   "cell_type": "code",
   "execution_count": 38,
   "id": "c0edf719",
   "metadata": {},
   "outputs": [
    {
     "name": "stdout",
     "output_type": "stream",
     "text": [
      "Enter your String=123\n"
     ]
    },
    {
     "data": {
      "text/plain": [
       "['yes']"
      ]
     },
     "execution_count": 38,
     "metadata": {},
     "output_type": "execute_result"
    }
   ],
   "source": [
    "#B CHECK IF THE STING IS NUMERIC OR NOT\n",
    "st=input(\"Enter your String=\")\n",
    "ch=st.isnumeric()\n",
    "[ \"yes\" if st.isnumeric() else \"no\"]"
   ]
  },
  {
   "cell_type": "code",
   "execution_count": 57,
   "id": "cf6a4394",
   "metadata": {},
   "outputs": [
    {
     "data": {
      "text/plain": [
       "[[('grapes', 1000), ('mango', 99), ('orange', 80)], None]"
      ]
     },
     "execution_count": 57,
     "metadata": {},
     "output_type": "execute_result"
    }
   ],
   "source": [
    "#C Ans\n",
    "l=[(\"mango\",99),(\"orange\",80), (\"grapes\", 1000)]\n",
    "[l,l.sort()]"
   ]
  },
  {
   "cell_type": "code",
   "execution_count": 65,
   "id": "3ab06193",
   "metadata": {},
   "outputs": [
    {
     "data": {
      "text/plain": [
       "[1, 4, 9, 16, 25, 36, 49, 64, 81]"
      ]
     },
     "execution_count": 65,
     "metadata": {},
     "output_type": "execute_result"
    }
   ],
   "source": [
    "#D Ans\n",
    "# finding the square of the number from 1-10\n",
    "c=range(1,10)\n",
    "[i**2 for i in c]"
   ]
  },
  {
   "cell_type": "code",
   "execution_count": 68,
   "id": "b9cdab06",
   "metadata": {},
   "outputs": [
    {
     "data": {
      "text/plain": [
       "[1, 8, 27, 64, 125, 216, 343, 512, 729]"
      ]
     },
     "execution_count": 68,
     "metadata": {},
     "output_type": "execute_result"
    }
   ],
   "source": [
    "#E Ans\n",
    "#finding the cube of the number from 1-10\n",
    "c=range(1,10)\n",
    "[i**3 for i in c]"
   ]
  },
  {
   "cell_type": "code",
   "execution_count": 70,
   "id": "39839350",
   "metadata": {},
   "outputs": [
    {
     "name": "stdout",
     "output_type": "stream",
     "text": [
      "Enter your number=2\n"
     ]
    },
    {
     "data": {
      "text/plain": [
       "['even']"
      ]
     },
     "execution_count": 70,
     "metadata": {},
     "output_type": "execute_result"
    }
   ],
   "source": [
    "#F Ans\n",
    "# CHECK A NUMBER IS EVEN\n",
    "num=int(input(\"Enter your number=\"))\n",
    "[\"even\" if num%2==0 else \"odd\"]"
   ]
  },
  {
   "cell_type": "code",
   "execution_count": 146,
   "id": "d8157a5c",
   "metadata": {},
   "outputs": [
    {
     "name": "stdout",
     "output_type": "stream",
     "text": [
      "odd numbers are with map function\n"
     ]
    },
    {
     "data": {
      "text/plain": [
       "[1, None, 3, None, 5, None, 7, None, 9, None]"
      ]
     },
     "execution_count": 146,
     "metadata": {},
     "output_type": "execute_result"
    }
   ],
   "source": [
    "#G filter number\n",
    "l2=[1,2,3,4,5,6,7,8,9,10]\n",
    "def odd(x):\n",
    "    if x%2!=0:\n",
    "        return x\n",
    "print(\"odd numbers are with map function\")\n",
    "list(map(odd,l2))"
   ]
  },
  {
   "cell_type": "code",
   "execution_count": 152,
   "id": "18bbcdba",
   "metadata": {},
   "outputs": [
    {
     "name": "stdout",
     "output_type": "stream",
     "text": [
      "list of Negative numbers\n",
      "Positive numbers for given list= [0, 1, 2, 3, 4, 5, 6]\n",
      "Negative Numbers from given list= [-1, -2, -3, -4, -5]\n"
     ]
    }
   ],
   "source": [
    "#H Ans\n",
    "l=[1,2,3,4,5,6,-1,-2,-3,-4,-5,0]\n",
    "print(\"list of Negative numbers\")\n",
    "negative=list(filter(lambda y: y<0,l))\n",
    "positive=list(filter(lambda x:x>=0 ,l1))\n",
    "\n",
    "positive.sort()\n",
    "\n",
    "print(\"Positive numbers for given list=\",positive)\n",
    "print(\"Negative Numbers from given list=\",negative)\n"
   ]
  },
  {
   "cell_type": "code",
   "execution_count": null,
   "id": "a5ae3e19",
   "metadata": {},
   "outputs": [],
   "source": []
  }
 ],
 "metadata": {
  "kernelspec": {
   "display_name": "Python 3 (ipykernel)",
   "language": "python",
   "name": "python3"
  },
  "language_info": {
   "codemirror_mode": {
    "name": "ipython",
    "version": 3
   },
   "file_extension": ".py",
   "mimetype": "text/x-python",
   "name": "python",
   "nbconvert_exporter": "python",
   "pygments_lexer": "ipython3",
   "version": "3.10.6"
  }
 },
 "nbformat": 4,
 "nbformat_minor": 5
}
