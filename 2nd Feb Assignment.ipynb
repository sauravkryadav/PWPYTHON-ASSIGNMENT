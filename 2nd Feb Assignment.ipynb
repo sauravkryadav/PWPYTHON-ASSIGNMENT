{
 "cells": [
  {
   "cell_type": "markdown",
   "id": "c50ef1c6",
   "metadata": {},
   "source": [
    "#Question 1. Explain with an axample each when to use for loop and a while loop."
   ]
  },
  {
   "cell_type": "code",
   "execution_count": 3,
   "id": "1368b30c",
   "metadata": {},
   "outputs": [
    {
     "name": "stdout",
     "output_type": "stream",
     "text": [
      "1\n",
      "2\n",
      "3\n",
      "4\n",
      "5\n",
      "6\n",
      "7\n",
      "8\n",
      "9\n"
     ]
    }
   ],
   "source": [
    "'''FOR LOOP:- For loop in python is used to iterate the statements \n",
    "    or a part of the program several times.'''\n",
    "#example\n",
    "n=10\n",
    "for i in range(1,n):\n",
    "    print(i)\n",
    "\n"
   ]
  },
  {
   "cell_type": "code",
   "execution_count": 7,
   "id": "0741963b",
   "metadata": {},
   "outputs": [
    {
     "name": "stdout",
     "output_type": "stream",
     "text": [
      "1\n",
      "2\n",
      "3\n",
      "4\n",
      "5\n",
      "6\n",
      "7\n",
      "8\n",
      "9\n"
     ]
    }
   ],
   "source": [
    "'''WHILE LOOP:- While loop is used to execute a block of stetements repedately \n",
    "    until a given a condition is satisfyed.'''\n",
    "#example\n",
    "n=1\n",
    "while(n<10):\n",
    "    print(n)\n",
    "    n+=1"
   ]
  },
  {
   "cell_type": "markdown",
   "id": "fc6065b1",
   "metadata": {},
   "source": [
    "#Question 2. Write a python program to print the sum and product of the first 10 natural numbers using for loop and while loop."
   ]
  },
  {
   "cell_type": "code",
   "execution_count": 9,
   "id": "df131c08",
   "metadata": {},
   "outputs": [
    {
     "name": "stdout",
     "output_type": "stream",
     "text": [
      "sum of the first 10 natural numbers= 55\n",
      "\n",
      "product of the first 10 natural numbers= 3628800\n"
     ]
    }
   ],
   "source": [
    "#By using for loop\n",
    "sum=0\n",
    "mult=1\n",
    "for i in range(1,11):\n",
    "    sum+=i\n",
    "    mult*=i\n",
    "print(\"sum of the first 10 natural numbers=\",sum)\n",
    "print()\n",
    "print(\"product of the first 10 natural numbers=\",mult)"
   ]
  },
  {
   "cell_type": "code",
   "execution_count": 10,
   "id": "fc429d40",
   "metadata": {},
   "outputs": [
    {
     "name": "stdout",
     "output_type": "stream",
     "text": [
      "sum of fisrt 10 natural numbers= 55\n",
      "product of first 10 natural numbers= 3628800\n"
     ]
    }
   ],
   "source": [
    "#By using while loop\n",
    "n=10\n",
    "sum=0\n",
    "mult=1\n",
    "while(n>0):\n",
    "    sum+=n\n",
    "    mult=mult*n\n",
    "    n-=1\n",
    "print(\"sum of fisrt 10 natural numbers=\",sum)\n",
    "print(\"product of first 10 natural numbers=\",mult)"
   ]
  },
  {
   "cell_type": "markdown",
   "id": "dd38c681",
   "metadata": {},
   "source": [
    "#Question 3.Creat a  python program to compute the electricty bill for a household.\n",
    "'''The per-unit charge in rupees are as follows : for the first 100 units, the user will be charged Rs.4.5 per-unit,\n",
    "for tje next 100 units the user will be charged Rs. 6 per-unit, and for the next 100 units the will be charged Rs. 10 per unit, \n",
    "after 300 units and above the user will be charged Rs. 20 per-unit.'''\n"
   ]
  },
  {
   "cell_type": "code",
   "execution_count": 13,
   "id": "8cf5faa9",
   "metadata": {},
   "outputs": [
    {
     "name": "stdout",
     "output_type": "stream",
     "text": [
      "Enter Electricty consumed in a month=310\n",
      "Your Electrity bill is : 2250.0\n"
     ]
    }
   ],
   "source": [
    "units=int(input(\"Enter Electricty consumed in a month=\"))\n",
    "e_bill=0\n",
    "\n",
    "if units <= 100:\n",
    "    e_bill = unit * 4.5\n",
    "elif units <= 200:\n",
    "    e_bill = 100 * 4.5 + (units - 100) * 6\n",
    "elif units <= 300:\n",
    "    e_bill = 100 * 4.5 + 100 * 6 + (units - 200) * 10\n",
    "else:\n",
    "    e_bill = 100 * 4.5 + 100 * 6 + 100 * 10 + (units - 300) * 20\n",
    "print(\"Your Electrity bill is :\",e_bill)"
   ]
  },
  {
   "cell_type": "markdown",
   "id": "6cd94cc0",
   "metadata": {},
   "source": [
    "'''Question 4. Create a list of numbers from 1 to 100. Use for loop and while loop to calculate the cube of each number and\n",
    "if the cube of that number is divisible by 4 or 5 then append that number in a list and print that list.'''"
   ]
  },
  {
   "cell_type": "code",
   "execution_count": 19,
   "id": "cbd12ca7",
   "metadata": {},
   "outputs": [
    {
     "name": "stdout",
     "output_type": "stream",
     "text": [
      "Cube of each number and that is divisible by 4 or 5 are stored in list and shown below\n",
      "\n",
      "[8, 64, 125, 216, 512, 1000, 1728, 2744, 3375, 4096, 5832, 8000, 10648, 13824, 15625, 17576, 21952, 27000, 32768, 39304, 42875, 46656, 54872, 64000, 74088, 85184, 91125, 97336, 110592, 125000, 140608, 157464, 166375, 175616, 195112, 216000, 238328, 262144, 274625, 287496, 314432, 343000, 373248, 405224, 421875, 438976, 474552, 512000, 551368, 592704, 614125, 636056, 681472, 729000, 778688, 830584, 857375, 884736, 941192, 1000000]\n"
     ]
    }
   ],
   "source": [
    "#By using for loop\n",
    "l1=list(range(1,100+1))\n",
    "\n",
    "m=0\n",
    "l2=[]\n",
    "for i in l1:\n",
    "\n",
    "    m=i**3     #taking a var and storing cubes in it for further operation\n",
    "    if(m%4==0 or m%5==0 ):\n",
    "        l2.append(m)     \n",
    "\n",
    "print(\"Cube of each number and that is divisible by 4 or 5 are stored in list and shown below\")\n",
    "print()\n",
    "print(l2)"
   ]
  },
  {
   "cell_type": "code",
   "execution_count": 35,
   "id": "e063deca",
   "metadata": {},
   "outputs": [
    {
     "name": "stdout",
     "output_type": "stream",
     "text": [
      "All the numbers whose divided by 4 or 5 are stored in list and shown below\n",
      "\n",
      "[8, 64, 125, 216, 512, 1000, 1728, 2744, 3375, 4096, 5832, 8000, 10648, 13824, 15625, 17576, 21952, 27000, 32768, 39304, 42875, 46656, 54872, 64000, 74088, 85184, 91125, 97336, 110592, 125000, 140608, 157464, 166375, 175616, 195112, 216000, 238328, 262144, 274625, 287496, 314432, 343000, 373248, 405224, 421875, 438976, 474552, 512000, 551368, 592704, 614125, 636056, 681472, 729000, 778688, 830584, 857375, 884736, 941192, 1000000]\n"
     ]
    }
   ],
   "source": [
    "#By using while loop\n",
    "n = 1\n",
    "m = 0\n",
    "l2 = []\n",
    "\n",
    "while(n<101):\n",
    "    \n",
    "    m=n**3\n",
    "    if(m%4==0 or m%5==0):\n",
    "        l2.append(m)\n",
    "    n+=1\n",
    "    \n",
    "print(\"All the numbers whose divided by 4 or 5 are stored in list and shown below\")\n",
    "print()\n",
    "print(l2)"
   ]
  },
  {
   "cell_type": "markdown",
   "id": "cf71e222",
   "metadata": {},
   "source": [
    "#Question 5.Write a program to filter count vowels in the below given string\n",
    "string=\"i want to become a data scientist\""
   ]
  },
  {
   "cell_type": "code",
   "execution_count": 36,
   "id": "575d83a9",
   "metadata": {},
   "outputs": [
    {
     "name": "stdout",
     "output_type": "stream",
     "text": [
      "There are 12 vowels are persent in this string\n"
     ]
    }
   ],
   "source": [
    "string=\"i want to become a data scientist\"\n",
    "count =0\n",
    "n =len(string)\n",
    "for i in range(n):\n",
    "    if(string[i]==\"a\" or string[i]==\"e\" or string[i]==\"i\" or string[i]==\"o\" or string[i]==\"u\"):\n",
    "        count+=1\n",
    "print(\"There are\",count,\"vowels are persent in this string\")"
   ]
  },
  {
   "cell_type": "code",
   "execution_count": null,
   "id": "669bcd97",
   "metadata": {},
   "outputs": [],
   "source": []
  }
 ],
 "metadata": {
  "kernelspec": {
   "display_name": "Python 3 (ipykernel)",
   "language": "python",
   "name": "python3"
  },
  "language_info": {
   "codemirror_mode": {
    "name": "ipython",
    "version": 3
   },
   "file_extension": ".py",
   "mimetype": "text/x-python",
   "name": "python",
   "nbconvert_exporter": "python",
   "pygments_lexer": "ipython3",
   "version": "3.11.1"
  }
 },
 "nbformat": 4,
 "nbformat_minor": 5
}
