{
 "cells": [
  {
   "cell_type": "code",
   "execution_count": 1,
   "id": "32335999",
   "metadata": {},
   "outputs": [],
   "source": [
    "# # Q1: What is Matplotlib? Why is it used? Name five plots that can be plotted using the Pyplot module of\n",
    "# # Matplotlib.\n",
    "# matplotlib is the tool by which we can plot the data in graphically.it is used to give the claer idea of what algorithm is used in the problem.\n",
    "# five pyplot\n",
    "# 1. scatter\n",
    "# 2.histo\n",
    "# 3.line plot\n",
    "# 4. bar graph\n",
    "# 5.pie chart"
   ]
  },
  {
   "cell_type": "code",
   "execution_count": 2,
   "id": "080addc6",
   "metadata": {},
   "outputs": [],
   "source": [
    "# Q2: What is a scatter plot? Use the following code to generate data for x and y. Using this generated data\n",
    "# plot a scatter plot.\n",
    "# import numpy as np\n",
    "# np.random.seed(3)\n",
    "# x = 3 + np.random.normal(0, 2, 50)\n",
    "# y = 3 + np.random.normal(0, 2, len(x))\n",
    "# Note: Also add title, xlabel, and ylabel to the plot."
   ]
  },
  {
   "cell_type": "code",
   "execution_count": 3,
   "id": "8c1ee952",
   "metadata": {},
   "outputs": [],
   "source": [
    "# scatter plot is the type of ploting in which it plot the dot or any other symbole where the point lie"
   ]
  },
  {
   "cell_type": "code",
   "execution_count": 16,
   "id": "489cc20f",
   "metadata": {},
   "outputs": [],
   "source": [
    "import numpy as np\n",
    "import matplotlib.pyplot as plt\n",
    " "
   ]
  },
  {
   "cell_type": "code",
   "execution_count": 17,
   "id": "c50bfe3c",
   "metadata": {},
   "outputs": [],
   "source": [
    "np.random.seed(3)\n",
    "x = 3 + np.random.normal(0, 2, 50)\n",
    "y = 3 + np.random.normal(0, 2, len(x))"
   ]
  },
  {
   "cell_type": "code",
   "execution_count": 20,
   "id": "8e8fce64",
   "metadata": {},
   "outputs": [
    {
     "data": {
      "text/plain": [
       "Text(0.5, 1.0, 'title')"
      ]
     },
     "execution_count": 20,
     "metadata": {},
     "output_type": "execute_result"
    },
    {
     "data": {
      "image/png": "[encoded data removed]",
      "text/plain": [
       "<Figure size 432x288 with 1 Axes>"
      ]
     },
     "metadata": {
      "needs_background": "light"
     },
     "output_type": "display_data"
    }
   ],
   "source": [
    "plt.scatter(x,y)\n",
    "plt.xlabel(\"x axis\")\n",
    "plt.ylabel(\"y axis\")\n",
    "plt.title(\"title\")\n"
   ]
  },
  {
   "cell_type": "code",
   "execution_count": 21,
   "id": "2e14e673",
   "metadata": {},
   "outputs": [],
   "source": [
    "# Q3: Why is the subplot() function used? Draw four line plots using the subplot() function.\n",
    "# Use the following data:\n",
    "# import numpy as np\n",
    "# For line 1: x = np.array([0, 1, 2, 3, 4, 5]) and y = np.array([0, 100, 200, 300, 400, 500])\n",
    "# For line 2: x = np.array([0, 1, 2, 3, 4, 5]) and y = np.array([50, 20, 40, 20, 60, 70])\n",
    "# For line 3: x = np.array([0, 1, 2, 3, 4, 5]) and y = np.array([10, 20, 30, 40, 50, 60])\n",
    "# For line 4: x = np.array([0, 1, 2, 3, 4, 5]) and y = np.array([200, 350, 250, 550, 450, 150])"
   ]
  },
  {
   "cell_type": "code",
   "execution_count": 24,
   "id": "25ed332d",
   "metadata": {},
   "outputs": [],
   "source": [
    "# subplot is the type of plot in which we can plot more than one data in graph\n"
   ]
  },
  {
   "cell_type": "code",
   "execution_count": 34,
   "id": "f0ce7f36",
   "metadata": {},
   "outputs": [],
   "source": [
    "x1 = np.array([0, 1, 2, 3, 4, 5]) \n",
    "y1 = np.array([0, 100, 200, 300, 400, 500])"
   ]
  },
  {
   "cell_type": "code",
   "execution_count": 35,
   "id": "eb68b379",
   "metadata": {},
   "outputs": [],
   "source": [
    "x2 = np.array([0, 1, 2, 3, 4, 5])\n",
    "y2 = np.array([50, 20, 40, 20, 60, 70])"
   ]
  },
  {
   "cell_type": "code",
   "execution_count": 36,
   "id": "77301909",
   "metadata": {},
   "outputs": [],
   "source": [
    "x3 = np.array([0, 1, 2, 3, 4, 5])\n",
    "y3 = np.array([10, 20, 30, 40, 50, 60])"
   ]
  },
  {
   "cell_type": "code",
   "execution_count": 37,
   "id": "1c6dcdac",
   "metadata": {},
   "outputs": [],
   "source": [
    "x4 = np.array([0, 1, 2, 3, 4, 5])\n",
    "y4 = np.array([200, 350, 250, 550, 450, 150])"
   ]
  },
  {
   "cell_type": "code",
   "execution_count": 45,
   "id": "7426c9dc",
   "metadata": {},
   "outputs": [
    {
     "data": {
      "text/plain": [
       "<matplotlib.legend.Legend at 0x224bae10070>"
      ]
     },
     "execution_count": 45,
     "metadata": {},
     "output_type": "execute_result"
    },
    {
     "data": {
      "image/png": "[encoded data removed]",
      "text/plain": [
       "<Figure size 432x288 with 1 Axes>"
      ]
     },
     "metadata": {
      "needs_background": "light"
     },
     "output_type": "display_data"
    }
   ],
   "source": [
    "plt.plot(x1,y1,label=\"line 1\")\n",
    "plt.plot(x2,y2,label=\"line 2\")\n",
    "plt.plot(x3,y3,label=\"line 3\")\n",
    "plt.plot(x4,y4,label=\"line 4\")\n",
    "plt.legend(loc=\"best\")"
   ]
  },
  {
   "cell_type": "code",
   "execution_count": 46,
   "id": "9b88945c",
   "metadata": {},
   "outputs": [],
   "source": [
    "# Q4: What is a bar plot? Why is it used? Using the following data plot a bar plot and a horizontal bar plot.\n",
    "# import numpy as np\n",
    "# company = np.array([\"Apple\", \"Microsoft\", \"Google\", \"AMD\"])\n",
    "# profit = np.array([3000, 8000, 1000, 10000])"
   ]
  },
  {
   "cell_type": "code",
   "execution_count": 47,
   "id": "b9ce9134",
   "metadata": {},
   "outputs": [],
   "source": [
    "# bar graph is the type of plot in which it create the bar like shape to show the particular data\n",
    "company = np.array([\"Apple\", \"Microsoft\", \"Google\", \"AMD\"])\n",
    "profit = np.array([3000, 8000, 1000, 10000])"
   ]
  },
  {
   "cell_type": "code",
   "execution_count": 48,
   "id": "43213933",
   "metadata": {},
   "outputs": [
    {
     "data": {
      "text/plain": [
       "<BarContainer object of 4 artists>"
      ]
     },
     "execution_count": 48,
     "metadata": {},
     "output_type": "execute_result"
    },
    {
     "data": {
      "image/png": "[encoded data removed]",
      "text/plain": [
       "<Figure size 432x288 with 1 Axes>"
      ]
     },
     "metadata": {
      "needs_background": "light"
     },
     "output_type": "display_data"
    }
   ],
   "source": [
    "plt.bar(company,profit)"
   ]
  },
  {
   "cell_type": "code",
   "execution_count": 49,
   "id": "e531a341",
   "metadata": {},
   "outputs": [],
   "source": [
    "# What is a box plot? Why is it used? Using the following data plot a box plot.\n",
    "# box1 = np.random.normal(100, 10, 200)\n",
    "# box2 = np.random.normal(90, 20, 200)"
   ]
  },
  {
   "cell_type": "code",
   "execution_count": 50,
   "id": "7dbbb5ac",
   "metadata": {},
   "outputs": [],
   "source": [
    "\n",
    "#A box plot which is also known as a whisker plot displays a summary of a set of data containing the minimum, first quartile, median, third quartile, and maximum."
   ]
  },
  {
   "cell_type": "code",
   "execution_count": 51,
   "id": "f8b18952",
   "metadata": {},
   "outputs": [],
   "source": [
    "box1 = np.random.normal(100, 10, 200)\n",
    "box2 = np.random.normal(90, 20, 200)"
   ]
  },
  {
   "cell_type": "code",
   "execution_count": 55,
   "id": "c7d58adb",
   "metadata": {},
   "outputs": [
    {
     "data": {
      "text/plain": [
       "{'whiskers': [<matplotlib.lines.Line2D at 0x224bb3da0d0>,\n",
       "  <matplotlib.lines.Line2D at 0x224bb3da3a0>],\n",
       " 'caps': [<matplotlib.lines.Line2D at 0x224bb3da670>,\n",
       "  <matplotlib.lines.Line2D at 0x224bb3da940>],\n",
       " 'boxes': [<matplotlib.lines.Line2D at 0x224bb3cddc0>],\n",
       " 'medians': [<matplotlib.lines.Line2D at 0x224bb3dac10>],\n",
       " 'fliers': [<matplotlib.lines.Line2D at 0x224bb3daee0>],\n",
       " 'means': []}"
      ]
     },
     "execution_count": 55,
     "metadata": {},
     "output_type": "execute_result"
    },
    {
     "data": {
      "image/png": "[encoded data removed]",
      "text/plain": [
       "<Figure size 432x288 with 1 Axes>"
      ]
     },
     "metadata": {
      "needs_background": "light"
     },
     "output_type": "display_data"
    }
   ],
   "source": [
    "plt.boxplot(box1)"
   ]
  },
  {
   "cell_type": "code",
   "execution_count": null,
   "id": "b4f8da5b",
   "metadata": {},
   "outputs": [],
   "source": []
  }
 ],
 "metadata": {
  "kernelspec": {
   "display_name": "Python 3 (ipykernel)",
   "language": "python",
   "name": "python3"
  },
  "language_info": {
   "codemirror_mode": {
    "name": "ipython",
    "version": 3
   },
   "file_extension": ".py",
   "mimetype": "text/x-python",
   "name": "python",
   "nbconvert_exporter": "python",
   "pygments_lexer": "ipython3",
   "version": "3.9.6"
  }
 },
 "nbformat": 4,
 "nbformat_minor": 5
}
