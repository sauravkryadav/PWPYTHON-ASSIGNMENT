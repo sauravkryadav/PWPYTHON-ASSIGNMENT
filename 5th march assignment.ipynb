{
 "cells": [
  {
   "cell_type": "code",
   "execution_count": 1,
   "id": "72191214",
   "metadata": {},
   "outputs": [],
   "source": [
    "#Q1. How can you create a Bokeh plot using Python code?\n",
    "\"\"\"Ans:-\"\"\"\n",
    "from bokeh.plotting import figure, show\n",
    "\n",
    "# Prepare data\n",
    "x = [1, 2, 3, 4, 5]\n",
    "y = [6, 7, 2, 4, 5]\n",
    "\n",
    "# Create a figure\n",
    "p = figure(title=\"My Bokeh Plot\", x_axis_label=\"X-axis\", y_axis_label=\"Y-axis\")\n",
    "\n",
    "# Add glyphs to the figure\n",
    "p.circle(x, y, size=10, color='red')\n",
    "\n",
    "# Display the plot\n",
    "show(p)\n"
   ]
  },
  {
   "cell_type": "code",
   "execution_count": 2,
   "id": "786041e0",
   "metadata": {},
   "outputs": [],
   "source": [
    "#Q2. What are glyphs in Bokeh, and how can you add them to a Bokeh plot? Explain with an example.\n",
    "\"\"\"Ans:-In Bokeh, glyphs are visual markers that represent the data points in a plot. They are the fundamental building blocks for creating visualizations.\n",
    "Bokeh provides a wide range of glyphs, such as circles, lines, squares, bars, patches, and more, which can be used to visualize and represent different types of data.\"\"\"\n",
    "\n",
    "#code\n",
    "from bokeh.plotting import figure, show\n",
    "\n",
    "# Prepare data\n",
    "x = [1, 2, 3, 4, 5]\n",
    "y = [6, 7, 2, 4, 5]\n",
    "\n",
    "# Create a figure\n",
    "p = figure(title=\"My Glyphs Plot\", x_axis_label=\"X-axis\", y_axis_label=\"Y-axis\")\n",
    "\n",
    "# Add glyphs to the figure\n",
    "p.circle(x, y, size=10, color='red', alpha=0.5)\n",
    "p.line(x, y, line_width=2, color='blue')\n",
    "\n",
    "# Display the plot\n",
    "show(p)\n"
   ]
  },
  {
   "cell_type": "code",
   "execution_count": 4,
   "id": "107b0bc8",
   "metadata": {},
   "outputs": [],
   "source": [
    "#Q3. How can you customize the appearance of a Bokeh plot, including the axes, title, and legend?\n",
    "\"\"\"Ans:-\"\"\"\n",
    "from bokeh.plotting import figure, show\n",
    "from bokeh.models import Legend\n",
    "\n",
    "# Prepare data\n",
    "x = [1, 2, 3, 4, 5]\n",
    "y = [6, 7, 2, 4, 5]\n",
    "\n",
    "# Create a figure\n",
    "p = figure(title=\"Customized Plot\", x_axis_label=\"X-axis\", y_axis_label=\"Y-axis\",\n",
    "           width=500, height=400)\n",
    "\n",
    "# Add glyphs to the figure\n",
    "circle_glyph = p.circle(x, y, size=10, color='red', alpha=0.5)\n",
    "line_glyph = p.line(x, y, line_width=2, color='blue')\n",
    "\n",
    "# Customize axes appearance\n",
    "p.xaxis.axis_label_text_font_size = \"14pt\"\n",
    "p.yaxis.axis_label_text_font_style = \"italic\"\n",
    "\n",
    "# Customize title appearance\n",
    "p.title.text_font = \"Arial\"\n",
    "p.title.text_color = \"purple\"\n",
    "\n",
    "# Customize legend\n",
    "legend = Legend(items=[(\"Circle\", [circle_glyph]), (\"Line\", [line_glyph])],\n",
    "                location=\"top_right\")\n",
    "p.add_layout(legend)\n",
    "\n",
    "# Display the plot\n",
    "show(p)\n"
   ]
  },
  {
   "cell_type": "code",
   "execution_count": 2,
   "id": "d1cb8035",
   "metadata": {},
   "outputs": [],
   "source": [
    "#Q4. What is a Bokeh server, and how can you use it to create interactive plots that can be updated in real time?\n",
    "\"\"\"Ans:-\n",
    "Bokeh server is a component of the Bokeh library that allows you to create interactive plots and applications that can be served and updated in real time.\n",
    "With Bokeh server, you can build dynamic web applications with rich interactive visualizations that respond to user interactions and update in real time without needing to reload the page.\"\"\"\n",
    "\n",
    "#code\n",
    "from bokeh.plotting import figure, curdoc\n",
    "from bokeh.layouts import column\n",
    "from bokeh.models import Slider\n",
    "\n",
    "# Prepare data\n",
    "x = [1, 2, 3, 4, 5]\n",
    "y = [6, 7, 2, 4, 5]\n",
    "\n",
    "# Create a Bokeh figure and plot\n",
    "p = figure(title=\"Interactive Plot\", x_axis_label=\"X-axis\", y_axis_label=\"Y-axis\")\n",
    "circle_glyph = p.circle(x, y, size=10, color='blue')\n",
    "\n",
    "# Define interactions and callbacks\n",
    "slider = Slider(title=\"Update Y-axis\", start=1, end=10, step=1, value=1)\n",
    "\n",
    "def update_y(attr, old, new):\n",
    "    circle_glyph.data_source.data['y'] = [val * new for val in y]\n",
    "\n",
    "slider.on_change('value', update_y)\n",
    "\n",
    "# Create layout\n",
    "layout = column(slider, p)\n",
    "\n",
    "# Start the Bokeh server\n",
    "curdoc().add_root(layout)\n",
    "curdoc().title = \"Bokeh Server Example\"\n",
    "\n"
   ]
  },
  {
   "cell_type": "code",
   "execution_count": 3,
   "id": "2441467e",
   "metadata": {},
   "outputs": [
    {
     "name": "stdout",
     "output_type": "stream",
     "text": [
      " * Serving Flask app '__main__'\n",
      " * Debug mode: on\n"
     ]
    },
    {
     "name": "stderr",
     "output_type": "stream",
     "text": [
      "WARNING: This is a development server. Do not use it in a production deployment. Use a production WSGI server instead.\n",
      " * Running on http://127.0.0.1:5000\n",
      "Press CTRL+C to quit\n",
      " * Restarting with stat\n"
     ]
    },
    {
     "ename": "SystemExit",
     "evalue": "1",
     "output_type": "error",
     "traceback": [
      "An exception has occurred, use %tb to see the full traceback.\n",
      "\u001b[1;31mSystemExit\u001b[0m\u001b[1;31m:\u001b[0m 1\n"
     ]
    },
    {
     "name": "stderr",
     "output_type": "stream",
     "text": [
      "C:\\Users\\HP\\AppData\\Local\\Programs\\Python\\Python310\\lib\\site-packages\\IPython\\core\\interactiveshell.py:3386: UserWarning: To exit: use 'exit', 'quit', or Ctrl-D.\n",
      "  warn(\"To exit: use 'exit', 'quit', or Ctrl-D.\", stacklevel=1)\n"
     ]
    }
   ],
   "source": [
    "#Q5. How can you embed a Bokeh plot into a web page or dashboard using Flask or Django?\n",
    "\"\"\"Ans:-\"\"\"\n",
    "from flask import Flask, render_template\n",
    "from bokeh.plotting import figure\n",
    "from bokeh.embed import components\n",
    "\n",
    "app = Flask(__name__)\n",
    "\n",
    "@app.route('/')\n",
    "def index():\n",
    "    # Create the Bokeh plot\n",
    "    p = figure(plot_width=400, plot_height=400)\n",
    "    p.circle([1, 2, 3], [4, 5, 6])\n",
    "\n",
    "    # Generate the JavaScript and HTML components for embedding\n",
    "    script, div = components(p)\n",
    "\n",
    "    # Render the template with the embedded Bokeh plot\n",
    "    return render_template('index.html', plot_script=script, plot_div=div)\n",
    "\n",
    "if __name__ == '__main__':\n",
    "    app.run(debug=True)\n"
   ]
  },
  {
   "cell_type": "code",
   "execution_count": null,
   "id": "39014e6a",
   "metadata": {},
   "outputs": [],
   "source": []
  }
 ],
 "metadata": {
  "kernelspec": {
   "display_name": "Python 3 (ipykernel)",
   "language": "python",
   "name": "python3"
  },
  "language_info": {
   "codemirror_mode": {
    "name": "ipython",
    "version": 3
   },
   "file_extension": ".py",
   "mimetype": "text/x-python",
   "name": "python",
   "nbconvert_exporter": "python",
   "pygments_lexer": "ipython3",
   "version": "3.10.6"
  }
 },
 "nbformat": 4,
 "nbformat_minor": 5
}
