{
 "cells": [
  {
   "cell_type": "code",
   "execution_count": null,
   "id": "d8f30976",
   "metadata": {},
   "outputs": [],
   "source": [
    "#Q1\n",
    "\"\"\"Ans:-estimation statistics involves both point estimates and interval estimates.\n",
    "Point estimates provide a single value approximation of the population parameter, while interval estimates provide a range of plausible values along with a measure of confidence or uncertainty.\n",
    "Both types of estimates are important in statistical inference and decision-making.\"\"\""
   ]
  },
  {
   "cell_type": "code",
   "execution_count": 1,
   "id": "9a1b0a50",
   "metadata": {},
   "outputs": [
    {
     "name": "stdout",
     "output_type": "stream",
     "text": [
      "Estimated Population Mean: 75\n",
      "95% Confidence Interval: [ 73.04 , 76.96 ]\n"
     ]
    }
   ],
   "source": [
    "#Q2\n",
    "\"\"\"Ans:-\"\"\"\n",
    "import math\n",
    "\n",
    "def estimate_population_mean(sample_mean, sample_std_dev, sample_size):\n",
    "    # Calculate the standard error\n",
    "    standard_error = sample_std_dev / math.sqrt(sample_size)\n",
    "\n",
    "    # Calculate the margin of error (assuming a 95% confidence interval)\n",
    "    margin_of_error = 1.96 * standard_error\n",
    "\n",
    "    # Calculate the lower and upper bounds of the confidence interval\n",
    "    lower_bound = sample_mean - margin_of_error\n",
    "    upper_bound = sample_mean + margin_of_error\n",
    "\n",
    "    # Return the estimated population mean and confidence interval\n",
    "    return sample_mean, lower_bound, upper_bound\n",
    "sample_mean = 75\n",
    "sample_std_dev = 10\n",
    "sample_size = 100\n",
    "\n",
    "estimated_mean, lower_bound, upper_bound = estimate_population_mean(sample_mean, sample_std_dev, sample_size)\n",
    "\n",
    "print(\"Estimated Population Mean:\", estimated_mean)\n",
    "print(\"95% Confidence Interval: [\", lower_bound, \",\", upper_bound, \"]\")\n"
   ]
  },
  {
   "cell_type": "code",
   "execution_count": null,
   "id": "7414568e",
   "metadata": {},
   "outputs": [],
   "source": [
    "#Q3\n",
    "\"\"\"Ans:-hypothesis testing is essential in statistical inference, objective decision-making, scientific research, and problem-solving.\n",
    "It provides a structured approach to assess and draw conclusions about population parameters based on sample data, contributing to evidence-based decision-making and the advancement of knowledge in various fields.\n",
    "\n",
    "Hypothesis testing is a statistical procedure used to make inferences and draw conclusions about a population based on sample data.\n",
    "It involves formulating two competing hypotheses, the null hypothesis (H0) and the alternative hypothesis (H1), and assessing the evidence from the data to determine which hypothesis is supported.\"\"\"\n"
   ]
  },
  {
   "cell_type": "code",
   "execution_count": null,
   "id": "d1a4d882",
   "metadata": {},
   "outputs": [],
   "source": [
    "#Q4\n",
    "\n",
    "\"\"\"Ans:-\n",
    "Null Hypothesis (H0): The average weight of male college students is equal to or less than the average weight of female college students.\n",
    "\n",
    "Alternative Hypothesis (H1): The average weight of male college students is greater than the average weight of female college students.\n",
    "\n",
    "Symbolically:\n",
    "\n",
    "H0: μ_male ≤ μ_female\n",
    "H1: μ_male > μ_female\n",
    "\n",
    "In this hypothesis, we are testing whether there is evidence to suggest that the average weight of male college students is greater than the average weight of female college students in the population.\"\"\"\n"
   ]
  },
  {
   "cell_type": "code",
   "execution_count": 3,
   "id": "fb38df07",
   "metadata": {},
   "outputs": [
    {
     "name": "stdout",
     "output_type": "stream",
     "text": [
      "Reject the null hypothesis.\n",
      "Test Statistic: 2.748527632220156\n",
      "Critical Value: 1.8595480375228421\n"
     ]
    }
   ],
   "source": [
    "#Q5\n",
    "\"\"\"Ans:-\"\"\"\n",
    "import scipy.stats as stats\n",
    "\n",
    "def conduct_hypothesis_test(sample1, sample2, alpha):\n",
    "    # Calculate the sample statistics\n",
    "    n1 = len(sample1)\n",
    "    n2 = len(sample2)\n",
    "    mean1 = sum(sample1) / n1\n",
    "    mean2 = sum(sample2) / n2\n",
    "    var1 = sum((x - mean1) ** 2 for x in sample1) / (n1 - 1)\n",
    "    var2 = sum((x - mean2) ** 2 for x in sample2) / (n2 - 1)\n",
    "\n",
    "    # Calculate the test statistic\n",
    "    pooled_var = ((n1 - 1) * var1 + (n2 - 1) * var2) / (n1 + n2 - 2)\n",
    "    t = (mean1 - mean2) / (pooled_var * ((1 / n1) + (1 / n2))) ** 0.5\n",
    "\n",
    "    # Calculate the degrees of freedom\n",
    "    df = n1 + n2 - 2\n",
    "\n",
    "    # Calculate the critical value\n",
    "    critical_value = stats.t.ppf(1 - alpha, df)\n",
    "\n",
    "    # Compare the test statistic with the critical value\n",
    "    if t > critical_value:\n",
    "        # Reject the null hypothesis\n",
    "        print(\"Reject the null hypothesis.\")\n",
    "    else:\n",
    "        # Fail to reject the null hypothesis\n",
    "        print(\"Fail to reject the null hypothesis.\")\n",
    "\n",
    "    # Return the test statistic and critical value\n",
    "    return t, critical_value\n",
    "\n",
    "\n",
    "# Example usage\n",
    "sample1 = [65, 68, 70, 73, 71]\n",
    "sample2 = [60, 62, 64, 66, 68]\n",
    "alpha = 0.05\n",
    "\n",
    "test_statistic, critical_value = conduct_hypothesis_test(sample1, sample2, alpha)\n",
    "\n",
    "print(\"Test Statistic:\", test_statistic)\n",
    "print(\"Critical Value:\", critical_value)\n"
   ]
  },
  {
   "cell_type": "code",
   "execution_count": null,
   "id": "560495db",
   "metadata": {},
   "outputs": [],
   "source": [
    "#Q6\n",
    "\"\"\"Ans:-\n",
    "The null hypothesis (H0) represents the default position or assumption. \n",
    "It states that there is no significant difference, relationship, or effect in the population.\n",
    "It assumes that any observed differences or patterns in the data are due to random chance or sampling variability. The null hypothesis is typically denoted as H0 and is tested against the alternative hypothesis.\n",
    "\n",
    "The alternative hypothesis (H1 or Ha) represents the opposite claim or the statement being proposed as an alternative to the null hypothesis.\n",
    "It asserts that there is a significant difference, relationship, or effect in the population that goes beyond random chance or sampling variability.\n",
    "The alternative hypothesis is what the researcher or analyst aims to support or find evidence for through the hypothesis testing process.\n",
    "\n",
    "Example: Testing the effectiveness of a new drug treatment\n",
    "Null hypothesis (H0): The new drug treatment has no significant effect on patient recovery.\n",
    "Alternative hypothesis (H1): The new drug treatment has a significant effect on patient recovery.\"\"\""
   ]
  },
  {
   "cell_type": "code",
   "execution_count": null,
   "id": "e7e8d926",
   "metadata": {},
   "outputs": [],
   "source": [
    "#Q7\n",
    "\"\"\"Ans:-\n",
    "Step 1: Formulate the Hypotheses\n",
    "Step 2: Set the Significance Level\n",
    "Step 3: Collect and Analyze Data\n",
    "Step 4: Determine the Test Statistic\n",
    "Step 5: Establish the Rejection Region (Critical Region)\n",
    "Step 6: Calculate the P-value\n",
    "Step 7: Make a Decision\n",
    "Step 8: Draw Conclusions\"\"\"\n"
   ]
  },
  {
   "cell_type": "code",
   "execution_count": null,
   "id": "18d1f051",
   "metadata": {},
   "outputs": [],
   "source": [
    "#Q8\n",
    "\"\"\"Ans:-\n",
    "The p-value is a statistical measure that quantifies the strength of evidence against the null hypothesis (H0) in hypothesis testing.\n",
    "It represents the probability of observing a test statistic as extreme as or more extreme than the one calculated from the sample data, assuming that the null hypothesis is true.\n",
    "\n",
    "In hypothesis testing, the p-value is compared to a predetermined significance level (α) to make a decision about rejecting or failing to reject the null hypothesis.\n",
    "The significance level is typically set at 0.05 (5%) or 0.01 (1%), but it can vary depending on the context and the desired level of confidence.\"\"\""
   ]
  },
  {
   "cell_type": "code",
   "execution_count": 4,
   "id": "1d90cc72",
   "metadata": {},
   "outputs": [
    {
     "data": {
      "image/png": "[encoded data removed]",
      "text/plain": [
       "<Figure size 640x480 with 1 Axes>"
      ]
     },
     "metadata": {},
     "output_type": "display_data"
    }
   ],
   "source": [
    "#Q9\n",
    "\"\"\"Ans:-\"\"\"\n",
    "import numpy as np\n",
    "import matplotlib.pyplot as plt\n",
    "from scipy.stats import t\n",
    "\n",
    "# Set the degrees of freedom\n",
    "df = 10\n",
    "\n",
    "# Generate x values for the t-distribution plot\n",
    "x = np.linspace(-4, 4, 1000)\n",
    "\n",
    "# Calculate the probability density function (PDF) for the t-distribution\n",
    "pdf = t.pdf(x, df)\n",
    "\n",
    "# Plot the t-distribution\n",
    "plt.plot(x, pdf, label=f't-distribution (df={df})')\n",
    "\n",
    "# Add labels and a legend to the plot\n",
    "plt.xlabel('x')\n",
    "plt.ylabel('Probability Density')\n",
    "plt.title(f'Student\\'s t-distribution (df={df})')\n",
    "plt.legend()\n",
    "\n",
    "# Display the plot\n",
    "plt.show()\n",
    "\n"
   ]
  },
  {
   "cell_type": "code",
   "execution_count": 5,
   "id": "7399afe9",
   "metadata": {},
   "outputs": [
    {
     "name": "stdout",
     "output_type": "stream",
     "text": [
      "Test Statistic: 0.15811388300841897\n",
      "Critical Value: 2.3060041350333704\n",
      "p-value: 0.8782853018770393\n",
      "Fail to reject the null hypothesis\n"
     ]
    }
   ],
   "source": [
    "#Q10\n",
    "import scipy.stats as stats\n",
    "\n",
    "def two_sample_t_test(sample1, sample2, alpha):\n",
    "    # Calculate the sample statistics\n",
    "    n1 = len(sample1)\n",
    "    n2 = len(sample2)\n",
    "    mean1 = sum(sample1) / n1\n",
    "    mean2 = sum(sample2) / n2\n",
    "    var1 = sum((x - mean1) ** 2 for x in sample1) / (n1 - 1)\n",
    "    var2 = sum((x - mean2) ** 2 for x in sample2) / (n2 - 1)\n",
    "\n",
    "    # Calculate the pooled standard deviation\n",
    "    pooled_std = ((n1 - 1) * var1 + (n2 - 1) * var2) / (n1 + n2 - 2)\n",
    "\n",
    "    # Calculate the test statistic\n",
    "    t = (mean1 - mean2) / (pooled_std * ((1 / n1) + (1 / n2)) ** 0.5)\n",
    "\n",
    "    # Calculate the degrees of freedom\n",
    "    df = n1 + n2 - 2\n",
    "\n",
    "    # Calculate the critical value\n",
    "    critical_value = stats.t.ppf(1 - alpha / 2, df)\n",
    "\n",
    "    # Calculate the p-value\n",
    "    p_value = 2 * (1 - stats.t.cdf(abs(t), df))\n",
    "\n",
    "    # Compare the test statistic with the critical value and p-value with the significance level\n",
    "    if abs(t) > critical_value:\n",
    "        # Reject the null hypothesis\n",
    "        result = \"Reject the null hypothesis\"\n",
    "    else:\n",
    "        # Fail to reject the null hypothesis\n",
    "        result = \"Fail to reject the null hypothesis\"\n",
    "\n",
    "    # Return the test statistic, critical value, p-value, and result\n",
    "    return t, critical_value, p_value, result\n",
    "\n",
    "\n",
    "# Example usage\n",
    "sample1 = [2, 4, 6, 8, 10]\n",
    "sample2 = [1, 3, 5, 7, 9]\n",
    "alpha = 0.05\n",
    "\n",
    "test_statistic, critical_value, p_value, result = two_sample_t_test(sample1, sample2, alpha)\n",
    "\n",
    "print(\"Test Statistic:\", test_statistic)\n",
    "print(\"Critical Value:\", critical_value)\n",
    "print(\"p-value:\", p_value)\n",
    "print(result)\n"
   ]
  },
  {
   "cell_type": "code",
   "execution_count": null,
   "id": "504983a7",
   "metadata": {},
   "outputs": [],
   "source": [
    "#Q11\n",
    "\n",
    "\"\"\"Ans:\n",
    "The Student's t-distribution, often referred to as the t-distribution, is a probability distribution that is used in statistical inference when the sample size is small or when the population standard deviation is unknown.\n",
    "It is a variation of the normal distribution, but it has heavier tails, which accounts for the increased uncertainty when working with smaller sample sizes.\n",
    "\n",
    "The t-distribution is characterized by its degrees of freedom (df), which represent the number of independent observations used to calculate a statistic.\n",
    "As the degrees of freedom increase, the t-distribution becomes more similar to the standard normal distribution.\n",
    "\n",
    "the t-distribution is valuable when working with small sample sizes or when the population standard deviation is unknown.\n",
    "It provides a more accurate estimation and inference framework in such scenarios, accounting for the increased uncertainty associated with limited data.\n",
    "\"\"\"\n"
   ]
  },
  {
   "cell_type": "code",
   "execution_count": null,
   "id": "eedb3beb",
   "metadata": {},
   "outputs": [],
   "source": [
    "#Q12\n",
    "\n",
    "\"\"\"Ans:-The t-statistic, also known as the t-value or t-score, is a measure used in hypothesis testing to assess the difference between a sample statistic and a population parameter.\n",
    "It quantifies how far the sample estimate deviates from the hypothesized value, taking into account the variability and uncertainty in the data.\n",
    "\n",
    "The formula for the t-statistic depends on the specific hypothesis being tested and the type of analysis being conducted.\n",
    "Here are the commonly used formulas for two common scenarios:\n",
    "\n",
    "One-sample t-test:\n",
    "The one-sample t-test compares the mean of a sample to a hypothesized population mean.\n",
    "The formula for the t-statistic in a one-sample t-test is:\n",
    "t = (x - μ) / (s / √n)\n",
    "\n",
    "Independent two-sample t-test:\n",
    "The independent two-sample t-test compares the means of two independent samples to determine if there is a significant difference between them.\n",
    "The formula for the t-statistic in an independent two-sample t-test is:\n",
    "t = (x1 - x2) / √((s1^2 / n1) + (s2^2 / n2))\"\"\"\n"
   ]
  }
 ],
 "metadata": {
  "kernelspec": {
   "display_name": "Python 3 (ipykernel)",
   "language": "python",
   "name": "python3"
  },
  "language_info": {
   "codemirror_mode": {
    "name": "ipython",
    "version": 3
   },
   "file_extension": ".py",
   "mimetype": "text/x-python",
   "name": "python",
   "nbconvert_exporter": "python",
   "pygments_lexer": "ipython3",
   "version": "3.10.6"
  }
 },
 "nbformat": 4,
 "nbformat_minor": 5
}
