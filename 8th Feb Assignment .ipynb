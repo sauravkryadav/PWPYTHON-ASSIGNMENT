{
 "cells": [
  {
   "cell_type": "code",
   "execution_count": 1,
   "id": "6a967835",
   "metadata": {},
   "outputs": [],
   "source": [
    "# Q1 WHAT IS ABSTRACTION IN OOPS? EXPLAIN WITH EXAMPLE.\n",
    "\n",
    "\"\"\"= Abstraction is used to hide the internal functionally of the function from the user\"\"\"\n",
    "#example\n",
    "import abc\n",
    "from abc import ABC, abstractmethod\n",
    "class trying(ABC):\n",
    "    @abstractmethod\n",
    "    def abstract_method(self):\n",
    "        print(\"The abstract method\")\n",
    "\n"
   ]
  },
  {
   "cell_type": "code",
   "execution_count": null,
   "id": "9ef6612b",
   "metadata": {},
   "outputs": [],
   "source": [
    "#Q2 ENCAPSULATION\n",
    "\"\"\"= Encapsulation= Encapsulation hides variables or some implementation \n",
    "that may be changed so often in a class to prevent outsiders access it directly.\n",
    "They must access it via getter and setter methods.\"\"\"\n",
    "#Q2 ABSTRACTION\n",
    "'''Abstraction=Abstraction is used to hide something too, but in a higher degree (class, interface). \n",
    "Clients who use an abstract class (or interface) do not care about what it was, they just need to know what it can do'''\n"
   ]
  },
  {
   "cell_type": "code",
   "execution_count": null,
   "id": "9a84a875",
   "metadata": {},
   "outputs": [],
   "source": [
    "#example for Encaplusation (private class,public class)\n",
    "class car:\n",
    "    def __init__(self,year,make,model,speed):\n",
    "        self.__year=year           #private variable that user can't show or user can't modify\n",
    "        self.__make=make           #private variable that user can't show or user can't modify\n",
    "        self.__model=model         #private variable that user can't show or user can't modify\n",
    "        self.__speed=0             #private variable that user can't show or user can't modify\n",
    "    \n",
    "    def set_speed(self,speed):     #public function that can shown by user and user can give instruction according to this function\n",
    "        self.__speed=0 if speed <0 else speed\n",
    "    \n",
    "    def get_speed(self):          #public class that through which user can get speed\n",
    "        return self.__speed\n",
    "        \n",
    "c=car(1929,\"bmw\",\"edition2\",27)\n",
    "c.set_speed(50)\n",
    "c.get_speed()"
   ]
  },
  {
   "cell_type": "code",
   "execution_count": 6,
   "id": "050b4f0a",
   "metadata": {},
   "outputs": [
    {
     "name": "stdout",
     "output_type": "stream",
     "text": [
      "Area of a Square: 25\n",
      "Area of a circle: 50.24\n"
     ]
    }
   ],
   "source": [
    "#example for Data Abstraction\n",
    "from abc import ABC\n",
    "\n",
    "class llgm(ABC): #abstract class def calculate_area(self): #abstract methodpass\n",
    "    pass\n",
    "\n",
    "class Square(llgm):\n",
    "    length = 5\n",
    "    def Area(self):\n",
    "        return self.length * self.length \n",
    "class Circle(llgm):\n",
    "    radius =4 \n",
    "    def Area(self):\n",
    "        return 3.14 * self.radius * self.radius\n",
    "\n",
    "sq=Square() #object creating\n",
    "\n",
    "cir = Circle() #object created for the class circle\n",
    "\n",
    "print(\"Area of a Square:\",sq.Area()) #call to calculate_area method defined inside the class Square\n",
    "\n",
    "print(\"Area of a circle:\", cir.Area()) #call to calculate_area method defined inside the class Circle.\n"
   ]
  },
  {
   "cell_type": "code",
   "execution_count": null,
   "id": "40fb3618",
   "metadata": {},
   "outputs": [],
   "source": [
    "#Q3 Ans\n",
    "'''The 'abc' module in Python library provides the infrastructure for defining custom abstract base classes.\n",
    "'abc' works by marking methods of the base class as abstract. \n",
    "This is done by @absttractmethod decorator.\n",
    "We use 'abc' for making abstract class'''"
   ]
  },
  {
   "cell_type": "code",
   "execution_count": null,
   "id": "d8d6149d",
   "metadata": {},
   "outputs": [],
   "source": [
    "#Q4 Ans\n",
    "'''=Data Abstraction in Python can be achieved through creating abstract classes'''"
   ]
  },
  {
   "cell_type": "code",
   "execution_count": null,
   "id": "2835929f",
   "metadata": {},
   "outputs": [],
   "source": [
    "#Q5 Ans\n",
    "'''=We cannot create an abstract class in Python directly.\n",
    "Because Python does provide a module that allows us to define abstract classes.\n",
    "The module we can use to create an abstract class in Python is abc(abstract base class) module.'''"
   ]
  }
 ],
 "metadata": {
  "kernelspec": {
   "display_name": "Python 3 (ipykernel)",
   "language": "python",
   "name": "python3"
  },
  "language_info": {
   "codemirror_mode": {
    "name": "ipython",
    "version": 3
   },
   "file_extension": ".py",
   "mimetype": "text/x-python",
   "name": "python",
   "nbconvert_exporter": "python",
   "pygments_lexer": "ipython3",
   "version": "3.10.6"
  }
 },
 "nbformat": 4,
 "nbformat_minor": 5
}
