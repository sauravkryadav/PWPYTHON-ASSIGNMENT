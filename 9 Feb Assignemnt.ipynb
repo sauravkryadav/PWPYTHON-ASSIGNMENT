{
 "cells": [
  {
   "cell_type": "code",
   "execution_count": 15,
   "id": "4db8f7cd",
   "metadata": {},
   "outputs": [],
   "source": [
    "#Q1\n",
    "class Vehicle(): \n",
    "    def __init__(self, name_of_vehicle, max_speed, average_of_vehicle):\n",
    "        self.name_of_vehicle = name_of_vehicle\n",
    "        self.max_speed = max_speed\n",
    "        self.average_of_vehicle = average_of_vehicle\n"
   ]
  },
  {
   "cell_type": "code",
   "execution_count": 31,
   "id": "626780f7",
   "metadata": {},
   "outputs": [],
   "source": [
    "#Q2    \n",
    "class Car(Vehicle): \n",
    "    def __init__(self, model, color, max_speed, num_wheels, seating_capacity): \n",
    "        super().__init__(model, color, max_speed, num_wheels) \n",
    "        self.seating_capacity = seating_capacity \n",
    "  \n",
    "    def seating_capacity(self, capacity): \n",
    "        self.seating_capacity = capacity \n",
    "        print(\"Model:\", self.model, \"\\nColor:\", self.color, \"\\nMax Speed:\", self.max_speed, \"\\nNumber of wheels:\", self.num_wheels, \"\\nSeating Capacity:\", capacity)"
   ]
  },
  {
   "cell_type": "code",
   "execution_count": 1,
   "id": "437aa9d4",
   "metadata": {},
   "outputs": [
    {
     "name": "stdout",
     "output_type": "stream",
     "text": [
      "This is class B\n"
     ]
    }
   ],
   "source": [
    "#Q3\n",
    "'''Multiple inheritance is a type of inheritance in which a class can inherit attributes and methods from multiple classes.\n",
    "The following code demonstrates multiple inheritance in Python:'''\n",
    "\n",
    "class A: \n",
    "    def __init__(self): \n",
    "        self.message = \"This is class A\"\n",
    "    def print_message(self):\n",
    "        print(self.message)\n",
    "\n",
    "class B: \n",
    "    def __init__(self): \n",
    "        self.message = \"This is class B\"\n",
    "    def print_message(self):\n",
    "        print(self.message)\n",
    "\n",
    "class C(A, B): \n",
    "    def __init__(self): \n",
    "        A.__init__(self) \n",
    "        B.__init__(self) \n",
    "\n",
    "obj = C() \n",
    "obj.print_message() \n",
    "\n"
   ]
  },
  {
   "cell_type": "code",
   "execution_count": 3,
   "id": "def4c005",
   "metadata": {},
   "outputs": [],
   "source": [
    "#Q4\n",
    "'''Getter and setter methods are used to retrieve and update the values of object properties, respectively.\n",
    "They are special methods that are used to access the attributes of a class. \n",
    "Getter and setter methods are also referred to as accessor and mutator methods.\n",
    "\n",
    "Example: '''\n",
    "\n",
    "class Person:\n",
    "    def __init__(self, name, age):\n",
    "        self.name = name\n",
    "        self.age = age\n",
    "    \n",
    "    # getter method\n",
    "    def get_name(self):\n",
    "        return self.name\n",
    "\n",
    "    # setter method \n",
    "    def set_name(self, name):\n",
    "        self.name = name\n"
   ]
  },
  {
   "cell_type": "code",
   "execution_count": 4,
   "id": "953f4378",
   "metadata": {},
   "outputs": [
    {
     "data": {
      "text/plain": [
       "'raj kumar'"
      ]
     },
     "execution_count": 4,
     "metadata": {},
     "output_type": "execute_result"
    }
   ],
   "source": [
    "obj=Person(\"raj kumar\",18)\n",
    "obj.get_name()"
   ]
  },
  {
   "cell_type": "code",
   "execution_count": 5,
   "id": "edcf29b3",
   "metadata": {},
   "outputs": [
    {
     "name": "stdout",
     "output_type": "stream",
     "text": [
      "Child\n"
     ]
    }
   ],
   "source": [
    "#Q5\n",
    "'''Method overriding is a feature of object-oriented programming (OOP) \n",
    "that allows a subclass or child class to provide a specific implementation of a method \n",
    "that is already provided by one of its superclasses or parent classes. \n",
    "Method overriding is an important part of OOP because it allows subclasses to modify or extend the functionality of their parent classes.\n",
    "\n",
    "Python code to demonstrate method overriding:'''\n",
    "\n",
    "class Parent: \n",
    "  def __init__(self): \n",
    "      self.value = \"Parent\"\n",
    "  \n",
    "  def show(self): \n",
    "      print(self.value) \n",
    "  \n",
    "class Child(Parent): \n",
    "  def __init__(self): \n",
    "      self.value = \"Child\" \n",
    "  \n",
    "  def show(self): \n",
    "      print(self.value) \n",
    "  \n",
    "obj = Child() \n",
    "obj.show()"
   ]
  },
  {
   "cell_type": "code",
   "execution_count": null,
   "id": "35e0d67d",
   "metadata": {},
   "outputs": [],
   "source": []
  }
 ],
 "metadata": {
  "kernelspec": {
   "display_name": "Python 3 (ipykernel)",
   "language": "python",
   "name": "python3"
  },
  "language_info": {
   "codemirror_mode": {
    "name": "ipython",
    "version": 3
   },
   "file_extension": ".py",
   "mimetype": "text/x-python",
   "name": "python",
   "nbconvert_exporter": "python",
   "pygments_lexer": "ipython3",
   "version": "3.10.6"
  }
 },
 "nbformat": 4,
 "nbformat_minor": 5
}
