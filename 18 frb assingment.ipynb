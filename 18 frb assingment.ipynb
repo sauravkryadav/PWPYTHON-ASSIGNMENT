{
 "cells": [
  {
   "cell_type": "code",
   "execution_count": null,
   "id": "dd5f8685",
   "metadata": {},
   "outputs": [],
   "source": [
    "\"\"\"Q1. What is an API? Give an example, where an API is used in real life.\n",
    "\n",
    "API stands for \"Application Programming Interface,\" which is a set of protocols and tools for building software applications.\n",
    "An API specifies how software components should interact with each other and enables communication between different systems or software programs.\n",
    "\n",
    "Real Life Example:-\n",
    "\n",
    "One example of an API in real life is the Google Maps API, which allows developers to embed Google Maps into their own web applications.\n",
    "This API provides a way for developers to access and display map data and information from Google Maps within their own applications.\"\"\""
   ]
  },
  {
   "cell_type": "code",
   "execution_count": null,
   "id": "7cdb58c0",
   "metadata": {},
   "outputs": [],
   "source": [
    "\"\"\"Q2. Give advantages and disadvantages of using API.\n",
    "\n",
    "Advantages of using API:\n",
    "\n",
    "1.Allows for easy integration between different systems or software applications\n",
    "2.Increases efficiency by providing a standard way of accessing and exchanging data\n",
    "3.Enables developers to create new applications that can leverage existing services and data\n",
    "4.Improves scalability and flexibility by allowing different systems to communicate with each other\n",
    "Disadvantages of using API:\n",
    "\n",
    "1.May pose security risks if not implemented properly\n",
    "2.May require significant technical expertise to implement and maintain\n",
    "3.Can lead to data inconsistencies if there are differences in how data is interpreted or formatted between different systems\n",
    "4.Changes to the API may impact other applications that rely on it\"\"\""
   ]
  },
  {
   "cell_type": "code",
   "execution_count": null,
   "id": "4d334698",
   "metadata": {},
   "outputs": [],
   "source": [
    "\"\"\"Q3. What is a Web API? Differentiate between API and Web API.\n",
    "\n",
    "A Web API is a type of API that is accessed using HTTP requests and can be used to interact with web-based applications or services.\n",
    "Web APIs are typically designed to be used by web developers to integrate data or functionality from different web-based services or applications.\n",
    "\n",
    "The main difference between API and Web API is that API is a general term that can refer to any type of application programming interface,\n",
    "while Web API specifically refers to APIs that are accessed using HTTP requests and used to interact with web-based applications or services.\"\"\""
   ]
  },
  {
   "cell_type": "code",
   "execution_count": null,
   "id": "bd37c84e",
   "metadata": {},
   "outputs": [],
   "source": [
    "\"\"\"Q4. Explain REST and SOAP Architecture. Mention shortcomings of SOAP.\n",
    "\n",
    "REST (Representational State Transfer) and SOAP (Simple Object Access Protocol) are two different architectural styles for building web-based applications or services.\n",
    "\n",
    "REST architecture is based on a set of principles that define how web services should be designed and implemented.\n",
    "It relies on using a set of HTTP methods (GET, POST, PUT, DELETE) to interact with resources or data, and uses a URL structure to identify those resources.\n",
    "\n",
    "SOAP architecture is a messaging protocol that uses XML to exchange information between different systems or applications.\n",
    "It relies on a set of well-defined standards and protocols for message exchange, including the use of XML schemas, SOAP envelopes, and WSDL files.\n",
    "\n",
    "One shortcoming of SOAP architecture is that it can be relatively complex and verbose, which can make it slower and more resource-intensive compared to REST.\n",
    "It also requires more bandwidth due to its reliance on XML, which can lead to slower performance in some cases.\"\"\""
   ]
  },
  {
   "cell_type": "code",
   "execution_count": null,
   "id": "bfcc9bc3",
   "metadata": {},
   "outputs": [],
   "source": [
    "\"\"\"Q5. Differentiate between REST and SOAP.\n",
    "\n",
    "REST and SOAP are two different architectural styles for building web-based applications or services.\n",
    "\n",
    "REST:\n",
    "\n",
    "1.Uses a set of HTTP methods (GET, POST, PUT, DELETE) to interact with resources or data\n",
    "2.Uses a URL structure to identify resources\n",
    "3.Relies on a lightweight data format (e.g. JSON) for data exchange\n",
    "4.Typically faster and more scalable than SOAP due to its simplicity\n",
    "5.Requires less bandwidth compared to SOAP\n",
    "SOAP:\n",
    "\n",
    "1.Uses a messaging protocol to exchange information between different systems or applications\n",
    "2.Uses XML for message exchange\n",
    "3.Relies on a set of well-defined standards and protocols for message exchange\n",
    "4.Typically more complex and verbose than REST\n",
    "5.Can be slower and more resource-intensive compared to REST due to its reliance on XML\n",
    "\n",
    "\n",
    "\"\"\""
   ]
  },
  {
   "cell_type": "code",
   "execution_count": null,
   "id": "3b6ea8c3",
   "metadata": {},
   "outputs": [],
   "source": []
  }
 ],
 "metadata": {
  "kernelspec": {
   "display_name": "Python 3 (ipykernel)",
   "language": "python",
   "name": "python3"
  },
  "language_info": {
   "codemirror_mode": {
    "name": "ipython",
    "version": 3
   },
   "file_extension": ".py",
   "mimetype": "text/x-python",
   "name": "python",
   "nbconvert_exporter": "python",
   "pygments_lexer": "ipython3",
   "version": "3.10.6"
  }
 },
 "nbformat": 4,
 "nbformat_minor": 5
}
