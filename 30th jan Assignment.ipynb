{
 "cells": [
  {
   "cell_type": "markdown",
   "id": "99dc7b77",
   "metadata": {},
   "source": [
    "#Question 1."
   ]
  },
  {
   "cell_type": "code",
   "execution_count": 1,
   "id": "8b54aedd",
   "metadata": {},
   "outputs": [
    {
     "name": "stdout",
     "output_type": "stream",
     "text": [
      "enter your marks=90\n",
      "Grade B\n"
     ]
    }
   ],
   "source": [
    "marks=int(input(\"enter your marks=\"))\n",
    "\n",
    "#checking condition for printing the grades according to marks\n",
    "if(marks>90):\n",
    "    print(\"Grade A\")\n",
    "elif(marks>80 and marks<=90):\n",
    "    print(\"Grade B\")\n",
    "elif(marks>=60 and marks<=80):\n",
    "    print(\"Grade C\")\n",
    "else:\n",
    "    print(\"Grade D\")"
   ]
  },
  {
   "cell_type": "markdown",
   "id": "b443d7e7",
   "metadata": {},
   "source": [
    "#Question 2."
   ]
  },
  {
   "cell_type": "code",
   "execution_count": 2,
   "id": "b345478d",
   "metadata": {},
   "outputs": [
    {
     "name": "stdout",
     "output_type": "stream",
     "text": [
      "Enter Cost Price Of Your Bike=200000\n",
      "15% Road Tax You Need To Pay= 30000.0\n"
     ]
    }
   ],
   "source": [
    "cost_price=int(input(\"Enter Cost Price Of Your Bike=\"))\n",
    "\n",
    "'''conditions for printing the road tax to be paid according to the cost prie of bike'''\n",
    "if(cost_price>100000):\n",
    "    print(\"15% Road Tax You Need To Pay=\",15*cost_price/100)\n",
    "elif(cost_price>50000 and cost_price<=100000):\n",
    "    print(\"10% Road Tax You Need To Pay=\",10*cost_price/100)\n",
    "elif(cost_price<=50000):\n",
    "    print(\"5% Road Tax You Need To Pay=\",5*cost_price/100)"
   ]
  },
  {
   "cell_type": "markdown",
   "id": "22041463",
   "metadata": {},
   "source": [
    "#Question 3."
   ]
  },
  {
   "cell_type": "code",
   "execution_count": 4,
   "id": "6c8e4221",
   "metadata": {},
   "outputs": [
    {
     "name": "stdout",
     "output_type": "stream",
     "text": [
      "Enter Your City Name(Delhi/Agra/Jaipur)=Jaipur\n",
      "Jai Mahal\n"
     ]
    }
   ],
   "source": [
    "city=input(\"Enter Your City Name(Delhi/Agra/Jaipur)=\")\n",
    "\n",
    "if(city ==\"Delhi\"):\n",
    "    print(\"Red Fort\")\n",
    "elif(city ==\"Agra\"):\n",
    "    print(\"Taj Mahal\")\n",
    "elif(city ==\"Jaipur\"):\n",
    "    print(\"Jai Mahal\")"
   ]
  },
  {
   "cell_type": "markdown",
   "id": "61b6af66",
   "metadata": {},
   "source": [
    "#Question 4. Check how many times a given number can be divided by 3 before it is less than or equal to 10?"
   ]
  },
  {
   "cell_type": "code",
   "execution_count": 5,
   "id": "7e471559",
   "metadata": {},
   "outputs": [
    {
     "name": "stdout",
     "output_type": "stream",
     "text": [
      "3 times a number can be divided by 3 before it is less than or equal to 10\n"
     ]
    }
   ],
   "source": [
    "count=0         \n",
    "\n",
    "for i in range(1,11):\n",
    "    if(i%3==0):\n",
    "        count+=1\n",
    "print(count,\"times a number can be divided by 3 before it is less than or equal to 10\")\n"
   ]
  },
  {
   "cell_type": "markdown",
   "id": "f8513981",
   "metadata": {},
   "source": [
    "#Question 5. Why and when to use while loop in python give a detailed description with example?"
   ]
  },
  {
   "cell_type": "code",
   "execution_count": 6,
   "id": "b06c8df6",
   "metadata": {},
   "outputs": [
    {
     "name": "stdout",
     "output_type": "stream",
     "text": [
      "Enter number of rows : 5\n",
      "* \n",
      "* * \n",
      "* * * \n",
      "* * * * \n",
      "* * * * * \n"
     ]
    }
   ],
   "source": [
    "'''While loop is used to execute a block of statement repeatedly until a given a \n",
    "condition is satisfyed and when the condition becomes false the line immedeitaly\n",
    "after the loop in program is executed.;'''\n",
    "#example \n",
    "n = int(input('Enter number of rows : '))\n",
    " \n",
    "i = 1\n",
    "while i <= n :\n",
    "    j = 1\n",
    "    while j <= i:\n",
    "        print(\"*\", end = \" \")\n",
    "        j += 1\n",
    "    print()\n",
    "    i += 1"
   ]
  },
  {
   "cell_type": "markdown",
   "id": "b6ec5314",
   "metadata": {},
   "source": [
    "#Question 6. Use nested while loop to print 3 different pattern."
   ]
  },
  {
   "cell_type": "code",
   "execution_count": 2,
   "id": "8b8b6cb2",
   "metadata": {},
   "outputs": [
    {
     "name": "stdout",
     "output_type": "stream",
     "text": [
      "Enter number of rows5\n",
      "* * * * * \n",
      "* * * * \n",
      "* * * \n",
      "* * \n",
      "* \n"
     ]
    }
   ],
   "source": [
    "#Example 1.\n",
    "n = int(input(\"Enter number of rows\"))\n",
    "i = 1\n",
    "while i <= n :\n",
    "    j = n\n",
    "    while j >= i:\n",
    "        print(\"*\", end = \" \")\n",
    "        j -= 1\n",
    "    print()\n",
    "    i += 1"
   ]
  },
  {
   "cell_type": "code",
   "execution_count": 3,
   "id": "79c9c77c",
   "metadata": {},
   "outputs": [
    {
     "name": "stdout",
     "output_type": "stream",
     "text": [
      "Enter number of rows : 5\n",
      "* \n",
      "* * \n",
      "* * * \n",
      "* * * * \n",
      "* * * * * \n"
     ]
    }
   ],
   "source": [
    "#Example 2.\n",
    "n = int(input('Enter number of rows : '))\n",
    " \n",
    "i = 1\n",
    "while i <= n :\n",
    "    j = 1\n",
    "    while j <= i:\n",
    "        print(\"*\", end = \" \")\n",
    "        j += 1\n",
    "    print()\n",
    "    i += 1"
   ]
  },
  {
   "cell_type": "code",
   "execution_count": 4,
   "id": "3dc643b0",
   "metadata": {},
   "outputs": [
    {
     "name": "stdout",
     "output_type": "stream",
     "text": [
      "1  \n",
      "1 2  \n",
      "1 2 3  \n",
      "1 2 3 4  \n",
      "1 2 3 4 5  \n"
     ]
    }
   ],
   "source": [
    "#Example 3.\n",
    "i = 1\n",
    "while i<=5:\n",
    "    j = 1\n",
    "    while j<= i:\n",
    "        print(j,end=\" \")\n",
    "        j = j+1\n",
    "    print(\" \")\n",
    "    i = i+1"
   ]
  },
  {
   "cell_type": "markdown",
   "id": "cccde6a5",
   "metadata": {},
   "source": [
    "#Question 7. Reverse a while loop to display numbers from 10 to 1."
   ]
  },
  {
   "cell_type": "code",
   "execution_count": 5,
   "id": "6b7610b2",
   "metadata": {},
   "outputs": [
    {
     "name": "stdout",
     "output_type": "stream",
     "text": [
      "10 \n",
      "\n",
      "9 \n",
      "\n",
      "8 \n",
      "\n",
      "7 \n",
      "\n",
      "6 \n",
      "\n",
      "5 \n",
      "\n",
      "4 \n",
      "\n",
      "3 \n",
      "\n",
      "2 \n",
      "\n",
      "1 \n",
      "\n"
     ]
    }
   ],
   "source": [
    "n=10\n",
    "while(n>=1):\n",
    "    print(n,\"\\n\")\n",
    "    n=n-1"
   ]
  },
  {
   "cell_type": "markdown",
   "id": "eaf6dab8",
   "metadata": {},
   "source": [
    "#Question 8. Reverse a while loop to display numbers from 10 to 1"
   ]
  },
  {
   "cell_type": "code",
   "execution_count": 6,
   "id": "2314fd48",
   "metadata": {},
   "outputs": [
    {
     "name": "stdout",
     "output_type": "stream",
     "text": [
      "10 \n",
      "\n",
      "9 \n",
      "\n",
      "8 \n",
      "\n",
      "7 \n",
      "\n",
      "6 \n",
      "\n",
      "5 \n",
      "\n",
      "4 \n",
      "\n",
      "3 \n",
      "\n",
      "2 \n",
      "\n",
      "1 \n",
      "\n"
     ]
    }
   ],
   "source": [
    "n=10\n",
    "while(n>=1):\n",
    "    print(n,\"\\n\")\n",
    "    n=n-1"
   ]
  },
  {
   "cell_type": "code",
   "execution_count": null,
   "id": "eb92be43",
   "metadata": {},
   "outputs": [],
   "source": []
  }
 ],
 "metadata": {
  "kernelspec": {
   "display_name": "Python 3 (ipykernel)",
   "language": "python",
   "name": "python3"
  },
  "language_info": {
   "codemirror_mode": {
    "name": "ipython",
    "version": 3
   },
   "file_extension": ".py",
   "mimetype": "text/x-python",
   "name": "python",
   "nbconvert_exporter": "python",
   "pygments_lexer": "ipython3",
   "version": "3.11.1"
  }
 },
 "nbformat": 4,
 "nbformat_minor": 5
}
