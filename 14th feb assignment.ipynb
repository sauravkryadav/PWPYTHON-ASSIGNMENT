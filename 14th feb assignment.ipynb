{
 "cells": [
  {
   "cell_type": "code",
   "execution_count": null,
   "id": "7f84a8b9",
   "metadata": {},
   "outputs": [],
   "source": [
    "\"\"\" what is multithreading in python?why is it used? Name the module used to handle threads in python.\n",
    "\n",
    "Ans= Multithreading in Python refers to the technique of executing multiple threads (independent units of execution) simultaneously within a single process.\n",
    "It is used to achieve parallelism and improve the performance of a program by utilizing multiple cores or CPUs.\n",
    "The threading module is used to handle threads in Python.\n",
    "\"\"\""
   ]
  },
  {
   "cell_type": "code",
   "execution_count": null,
   "id": "378c0606",
   "metadata": {},
   "outputs": [],
   "source": [
    "\"\"\"why threading module used? write the use of the following functions\n",
    "( 1.activeCount\n",
    " 2.currentThread\n",
    " 3.enumerate)\"\"\"\n",
    "\n",
    "\"\"\"ANS=The threading module is used for creating, controlling, and managing threads in Python. The following functions are used for various purposes:\n",
    "\n",
    "activeCount: Returns the number of currently active thread objects.\n",
    "currentThread: Returns the current thread object.\n",
    "enumerate: Returns a list of all currently active thread objects.\"\"\""
   ]
  },
  {
   "cell_type": "code",
   "execution_count": null,
   "id": "a3251489",
   "metadata": {},
   "outputs": [],
   "source": [
    "\"\"\"q3. Explain the following functions\n",
    "(1.run\n",
    " 2.start\n",
    " 3.join\n",
    "' 4.isAlive)\"\"\"\n",
    "\n",
    "\"\"\"The following functions are used for managing threads in Python:\n",
    "\n",
    "run: This method is used to define the code that will be executed in a thread.\n",
    "\n",
    "start: This method is used to start a thread by calling its run method.\n",
    "\n",
    "join: This method is used to wait for a thread to complete its execution.\n",
    "\n",
    "isAlive: This method is used to check if a thread is currently executing.\"\"\""
   ]
  },
  {
   "cell_type": "code",
   "execution_count": null,
   "id": "7030883f",
   "metadata": {},
   "outputs": [],
   "source": [
    "\"\"\"Q4.write a python program to create two threads. Thread one must print the list of squares and thread\n",
    "two must print the list of cubes\"\"\"\n",
    "\n",
    "#code\n",
    "import threading\n",
    "\n",
    "def print_squares():\n",
    "    for i in range(10):\n",
    "        print(i*i)\n",
    "\n",
    "def print_cubes():\n",
    "    for i in range(10):\n",
    "        print(i*i*i)\n",
    "\n",
    "thread1 = threading.Thread(target=print_squares)\n",
    "thread2 = threading.Thread(target=print_cubes)\n",
    "\n",
    "thread1.start()\n",
    "thread2.start()\n",
    "\n",
    "thread1.join()\n",
    "thread2.join()"
   ]
  },
  {
   "cell_type": "code",
   "execution_count": null,
   "id": "d4029e19",
   "metadata": {},
   "outputs": [],
   "source": [
    "\"\"\"5. State advantages and disadvantages of multithreading\n",
    "\n",
    "ANS=Advantages of multithreading:\n",
    "\n",
    "Improved program performance due to parallel execution of tasks\n",
    "\n",
    "Efficient utilization of system resources such as CPU and memory\n",
    "\n",
    "Ability to perform multiple tasks simultaneously\n",
    "\n",
    "Improved responsiveness and user experience in applications such as GUIs\n",
    "\n",
    "Disadvantages of multithreading:\n",
    "\n",
    "Increased complexity of code due to potential synchronization and concurrency issues\n",
    "\n",
    "Difficulty in debugging and testing\n",
    "\n",
    "Risk of deadlocks and race conditions\"\"\""
   ]
  },
  {
   "cell_type": "code",
   "execution_count": null,
   "id": "af0832ec",
   "metadata": {},
   "outputs": [],
   "source": [
    "\"\"\"6. Explain deadlocks and race conditions.\n",
    "\n",
    "ANS=\n",
    "\n",
    "Deadlocks and race conditions are common issues that arise in multithreaded programs.\n",
    "Deadlocks occur when two or more threads are waiting for each other to release resources,\n",
    "resulting in a situation where neither thread can proceed. This can happen when threads acquire locks on resources in a different order,\n",
    "or when resources are not released properly.\n",
    "\n",
    "Race conditions occur when two or more threads access a shared resource simultaneously, resulting in unpredictable behavior.\n",
    "This can happen when threads read and write to the same memory location without proper synchronization.\"\"\"\n"
   ]
  }
 ],
 "metadata": {
  "kernelspec": {
   "display_name": "Python 3 (ipykernel)",
   "language": "python",
   "name": "python3"
  },
  "language_info": {
   "codemirror_mode": {
    "name": "ipython",
    "version": 3
   },
   "file_extension": ".py",
   "mimetype": "text/x-python",
   "name": "python",
   "nbconvert_exporter": "python",
   "pygments_lexer": "ipython3",
   "version": "3.10.6"
  }
 },
 "nbformat": 4,
 "nbformat_minor": 5
}
