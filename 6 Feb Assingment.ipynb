{
 "cells": [
  {
   "cell_type": "code",
   "execution_count": 22,
   "id": "b24b2d1c",
   "metadata": {},
   "outputs": [
    {
     "name": "stdout",
     "output_type": "stream",
     "text": [
      "[1, 2, 3, 4, 44, 55, 66, 34, 56, 78, 89, 34, 1, 34, 55, 67, 78, 89, 4, 45, 22, 61, 34, 56]\n",
      "\n",
      "product of interger flat list \n",
      "\n",
      "689118639831180913138973540352000\n"
     ]
    }
   ],
   "source": [
    "#Question no 1\n",
    "def flat_list(lst):\n",
    "  flat_list = []\n",
    "  for item in lst:\n",
    "    if type(item)==list:\n",
    "      for i in item:\n",
    "        if type(i)==int:\n",
    "          flat_list.append(i)\n",
    "    elif type(item)==tuple:\n",
    "      for i in item:\n",
    "        if type(i)==int:\n",
    "          flat_list.append(i)\n",
    "    elif type(item)==dict:\n",
    "      for key,value in item.items():\n",
    "        if type(key)==int:\n",
    "          flat_list.append(key)\n",
    "        if type(value)==int:\n",
    "          flat_list.append(value)\n",
    "        elif type(value)==list:\n",
    "          for i in value:\n",
    "            if type(i)==int:\n",
    "              flat_list.append(i)\n",
    "        elif type(value)==tuple:\n",
    "          for i in value:\n",
    "            if type(i)==int:\n",
    "              flat_list.append(i)\n",
    "    elif type(item)==int:\n",
    "      flat_list.append(item)\n",
    "  return flat_list\n",
    "list1=[1,2,3,4, [44,55,66, True], False, (34,56,78,89,34), {1,2,3,3,2,1}, {1:34, \"key2\": [55, 67, 78, 89], 4: (45,\n",
    "22, 61, 34)}, [56, 'data science'], 'Machine Learning']\n",
    "print(flat_list(list1))\n",
    "print()\n",
    "print(\"product of interger flat list \")\n",
    "b=flat_list(list1)\n",
    "print()\n",
    "product=1\n",
    "for i in b:\n",
    "    product*=i\n",
    "print(product)"
   ]
  },
  {
   "cell_type": "code",
   "execution_count": 27,
   "id": "92f63487",
   "metadata": {},
   "outputs": [
    {
     "name": "stdout",
     "output_type": "stream",
     "text": [
      "your given sentece are= I want to become a Data Scientist.\n",
      "\n",
      "Encripted message are\n",
      "\n",
      "I$wznt$to$yexome$z$Dztz$Sxientist.\n"
     ]
    }
   ],
   "source": [
    "#Question No 2\n",
    "sentence = \"I want to become a Data Scientist.\" \n",
    "\n",
    "encr= \"\" \n",
    "\n",
    "for i in sentence: \n",
    "    if i == \"a\": \n",
    "        encr+= \"z\" \n",
    "    elif i == \"b\": \n",
    "        encr+= \"y\" \n",
    "    elif i == \"c\": \n",
    "        encr+= \"x\" \n",
    "    elif i == \" \": \n",
    "        encr+= \"$\" \n",
    "    else: \n",
    "        encr += i\n",
    "print(\"your given sentece are=\",sentence)\n",
    "print()\n",
    "print(\"Encripted message are\")\n",
    "print()\n",
    "print(encr)"
   ]
  },
  {
   "cell_type": "code",
   "execution_count": null,
   "id": "abfb6cd9",
   "metadata": {},
   "outputs": [],
   "source": []
  }
 ],
 "metadata": {
  "kernelspec": {
   "display_name": "Python 3 (ipykernel)",
   "language": "python",
   "name": "python3"
  },
  "language_info": {
   "codemirror_mode": {
    "name": "ipython",
    "version": 3
   },
   "file_extension": ".py",
   "mimetype": "text/x-python",
   "name": "python",
   "nbconvert_exporter": "python",
   "pygments_lexer": "ipython3",
   "version": "3.10.6"
  }
 },
 "nbformat": 4,
 "nbformat_minor": 5
}
