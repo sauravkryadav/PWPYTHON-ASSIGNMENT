{
 "cells": [
  {
   "cell_type": "code",
   "execution_count": null,
   "id": "5967f0d3",
   "metadata": {},
   "outputs": [],
   "source": [
    "\"\"\"Q1.What is an Exception handling? write the difference between exception and syntax error?\n",
    "\n",
    "Ans= Exception handling is a technique in which we handling the error or exceptional sitution that \n",
    "are come during the execution of program .\n",
    "when an error is occurs and exception is rise which stops or enroupt our program\n",
    "then we need to handle this error then exception handline is come.\n",
    "\n",
    "\n",
    "Difference between syntax error and exception:-\n",
    "The main difference between an exception and a syntax error is that a syntax error occurs when the syntax of the code is incorrect and the code cannot be compiled or executed,\n",
    "whereas an exception occurs during the execution of the program when the code encounters an error or unexpected condition.\n",
    "\"\"\""
   ]
  },
  {
   "cell_type": "code",
   "execution_count": 1,
   "id": "9575ff8a",
   "metadata": {},
   "outputs": [
    {
     "ename": "ZeroDivisionError",
     "evalue": "division by zero",
     "output_type": "error",
     "traceback": [
      "\u001b[1;31m---------------------------------------------------------------------------\u001b[0m",
      "\u001b[1;31mZeroDivisionError\u001b[0m                         Traceback (most recent call last)",
      "Cell \u001b[1;32mIn [1], line 14\u001b[0m\n\u001b[0;32m     11\u001b[0m     \u001b[38;5;28;01mreturn\u001b[39;00m result\n\u001b[0;32m     13\u001b[0m \u001b[38;5;66;03m# Call the divide_numbers function with b = 0\u001b[39;00m\n\u001b[1;32m---> 14\u001b[0m result \u001b[38;5;241m=\u001b[39m \u001b[43mdivide_numbers\u001b[49m\u001b[43m(\u001b[49m\u001b[38;5;241;43m10\u001b[39;49m\u001b[43m,\u001b[49m\u001b[43m \u001b[49m\u001b[38;5;241;43m0\u001b[39;49m\u001b[43m)\u001b[49m\n\u001b[0;32m     15\u001b[0m \u001b[38;5;28mprint\u001b[39m(result)\n",
      "Cell \u001b[1;32mIn [1], line 10\u001b[0m, in \u001b[0;36mdivide_numbers\u001b[1;34m(a, b)\u001b[0m\n\u001b[0;32m      9\u001b[0m \u001b[38;5;28;01mdef\u001b[39;00m \u001b[38;5;21mdivide_numbers\u001b[39m(a, b):\n\u001b[1;32m---> 10\u001b[0m     result \u001b[38;5;241m=\u001b[39m \u001b[43ma\u001b[49m\u001b[43m \u001b[49m\u001b[38;5;241;43m/\u001b[39;49m\u001b[43m \u001b[49m\u001b[43mb\u001b[49m\n\u001b[0;32m     11\u001b[0m     \u001b[38;5;28;01mreturn\u001b[39;00m result\n",
      "\u001b[1;31mZeroDivisionError\u001b[0m: division by zero"
     ]
    }
   ],
   "source": [
    "\"\"\"Q2. What happen when an exceptin is not handled ? explain with an example.\n",
    "\n",
    "Ans= When an exception is not handled in a program, it will cause the program to terminate abruptly, and an error message will be displayed.\n",
    "The error message typically includes information about the type of exception that was raised,\n",
    "the location in the code where the exception occurred, and a traceback of the function calls that led up to the exception.\n",
    "\n",
    "\"\"\"\n",
    "#example with code\n",
    "def divide_numbers(a, b):\n",
    "    result = a / b\n",
    "    return result\n",
    "\n",
    "# Call the divide_numbers function with b = 0\n",
    "result = divide_numbers(10, 0)\n",
    "print(result)  # here zero division error is occur"
   ]
  },
  {
   "cell_type": "code",
   "execution_count": 2,
   "id": "0f5c847b",
   "metadata": {},
   "outputs": [
    {
     "name": "stdout",
     "output_type": "stream",
     "text": [
      "Error: division by zero\n",
      "None\n"
     ]
    }
   ],
   "source": [
    "\"\"\"Q3. Which python statements are used to catch and handle exception?\n",
    "explain with an example.\n",
    "\n",
    "Ans=To catch and handle exceptions in Python, we use the try and except statements.\n",
    "The general syntax of a try-except block in Python are:-\n",
    "\n",
    "    try:\n",
    "    # Code that may raise an exception \n",
    "    except ExceptionType:\n",
    "    # Code to handle the exception   \n",
    "\n",
    "\"\"\"\n",
    "\n",
    "#example\n",
    "def divide_numbers(a, b):\n",
    "    try:\n",
    "        result = a / b\n",
    "    except ZeroDivisionError:\n",
    "        print(\"Error: division by zero\")\n",
    "        result = None\n",
    "    return result\n",
    "\n",
    "# Call the divide_numbers function with b = 0\n",
    "result = divide_numbers(10, 0)\n",
    "print(result)\n",
    "\n"
   ]
  },
  {
   "cell_type": "code",
   "execution_count": 6,
   "id": "b9eb9dbc",
   "metadata": {},
   "outputs": [
    {
     "name": "stdout",
     "output_type": "stream",
     "text": [
      "The result is: 5.0\n",
      "\n",
      "below this , finally statement answer\n",
      "Error: file not found or could not be read\n",
      "\n",
      "below this , here raise staemnet\n",
      "Cannot divide by zero\n"
     ]
    }
   ],
   "source": [
    "\"\"\"Q4. Explain with an example following: (i) try and else,(ii) finally,(iii)raise?\n",
    "\n",
    "Ans= (i) try and else:\n",
    "In addition to the except clause, the try statement can also include an optional else clause.\n",
    "The code in the else clause is executed if no exception is raised in the try block\n",
    "\"\"\"\n",
    "#example\n",
    "try:\n",
    "    # Code that may raise an exception\n",
    "    result = 10 / 2\n",
    "except ZeroDivisionError:\n",
    "    print(\"Error: division by zero\")\n",
    "else:\n",
    "    print(\"The result is:\", result)\n",
    "print()\n",
    "\n",
    "\n",
    "\"\"\"(ii) finally:\n",
    "The finally clause can be used to specify code that must be executed regardless of whether an exception was raised in the try block or not.\n",
    "This can be useful for performing cleanup operations or releasing resources that were acquired in the try block. \"\"\"\n",
    "\n",
    "#example\n",
    "print(\"below this , finally statement answer\")\n",
    "f = None\n",
    "try:\n",
    "    f = open(\"myfile.txt\", \"r\")\n",
    "    data = f.read()\n",
    "except IOError:\n",
    "    print(\"Error: file not found or could not be read\")\n",
    "else:\n",
    "    print(\"File contents:\", data)\n",
    "finally:\n",
    "    if f is not None:\n",
    "        f.close()\n",
    "print()\n",
    "\n",
    "\"\"\"(iii) raise statement in Python:\n",
    "\n",
    "The raise statement in Python is used to explicitly raise an exception.\n",
    "\"\"\"\n",
    "\n",
    " #example\n",
    "print(\"below this , here raise staemnet\")\n",
    "def divide_numbers(a, b):\n",
    "    if b == 0:\n",
    "        raise ZeroDivisionError(\"Cannot divide by zero\")\n",
    "    return a / b\n",
    "\n",
    "try:\n",
    "    result = divide_numbers(10, 0)\n",
    "except ZeroDivisionError as e:\n",
    "    print(e)"
   ]
  },
  {
   "cell_type": "code",
   "execution_count": null,
   "id": "d64f3185",
   "metadata": {},
   "outputs": [],
   "source": [
    "\"\"\"What are custom exception in python? why do we need custom exception?\n",
    "explain with an example\n",
    "\n",
    "Ans= Custom exceptions in Python are user-defined exceptions that allow developers to create their own exception types.\n",
    "These exceptions can be raised and caught just like built-in exceptions, and they provide a way to handle specific errors in a more specific and clear way.\n",
    "\n",
    "We need custom exceptions because sometimes built-in exceptions are not specific enough to describe the error,\n",
    "or we may want to provide additional information or context with the exception. By defining our own exception types,\n",
    "we can handle errors more precisely and provide more meaningful error messages to the users.\"\"\"\n",
    "\n",
    "#example\n",
    "class InvalidAgeException(Exception):\n",
    "    pass\n",
    "\n",
    "def register_user(name, age):\n",
    "    if age < 18:\n",
    "        raise InvalidAgeException(\"Age must be at least 18\")\n",
    "    else:\n",
    "        print(\"User registered successfully\")\n",
    "\n",
    "try:\n",
    "    register_user(\"John\", 16)\n",
    "except InvalidAgeException as e:\n",
    "    print(\"Error:\", str(e))\n"
   ]
  },
  {
   "cell_type": "code",
   "execution_count": null,
   "id": "07894320",
   "metadata": {},
   "outputs": [],
   "source": [
    "\"\"\"Q6. Create a custom exception class. use this case to handle an exception\"\"\"\n",
    "#Ans\n",
    "class InvalidAgeException(Exception):\n",
    "    pass\n",
    "\n",
    "def register_user(name, age):\n",
    "    if age < 18:\n",
    "        raise InvalidAgeException(\"Age must be at least 18\")\n",
    "    else:\n",
    "        print(\"User registered successfully\")\n",
    "\n",
    "try:\n",
    "    register_user(\"John\", 16)\n",
    "except InvalidAgeException as e:\n",
    "    print(\"Error:\", str(e))\n"
   ]
  },
  {
   "cell_type": "code",
   "execution_count": null,
   "id": "7f9b0ee2",
   "metadata": {},
   "outputs": [],
   "source": []
  }
 ],
 "metadata": {
  "kernelspec": {
   "display_name": "Python 3 (ipykernel)",
   "language": "python",
   "name": "python3"
  },
  "language_info": {
   "codemirror_mode": {
    "name": "ipython",
    "version": 3
   },
   "file_extension": ".py",
   "mimetype": "text/x-python",
   "name": "python",
   "nbconvert_exporter": "python",
   "pygments_lexer": "ipython3",
   "version": "3.10.6"
  }
 },
 "nbformat": 4,
 "nbformat_minor": 5
}
