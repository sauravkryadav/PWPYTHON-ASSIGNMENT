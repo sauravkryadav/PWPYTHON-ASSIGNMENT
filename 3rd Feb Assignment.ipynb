{
 "cells": [
  {
   "cell_type": "markdown",
   "id": "6e21d38b",
   "metadata": {},
   "source": [
    "#Question 1. Which keyword is used to create a function? Create a function to return a list of odd numbers in the range of \n",
    "1 to 25."
   ]
  },
  {
   "cell_type": "code",
   "execution_count": 1,
   "id": "5ce7d63f",
   "metadata": {},
   "outputs": [
    {
     "name": "stdout",
     "output_type": "stream",
     "text": [
      "List of odd numbers are shown below\n"
     ]
    },
    {
     "data": {
      "text/plain": [
       "[1, 3, 5, 7, 9, 11, 13, 15, 17, 19, 21, 23]"
      ]
     },
     "execution_count": 1,
     "metadata": {},
     "output_type": "execute_result"
    }
   ],
   "source": [
    "#Def keyword is used to create a function in python.\n",
    "def odd_number(n):\n",
    "    print(\"List of odd numbers are shown below\")\n",
    "    l=[]\n",
    "    for i in n:\n",
    "        if i%2!=0:\n",
    "            l.append(i)\n",
    "    return l\n",
    "odd_number(range(1,25))"
   ]
  },
  {
   "cell_type": "markdown",
   "id": "c9bf4738",
   "metadata": {},
   "source": [
    "#Question 2. Why *args and **kwargs is used in some functions? Create a function each for *args and **kwargs to demonstrate their use."
   ]
  },
  {
   "cell_type": "code",
   "execution_count": 1,
   "id": "171adee2",
   "metadata": {},
   "outputs": [
    {
     "name": "stdout",
     "output_type": "stream",
     "text": [
      "argument are passed in (*) = (1, 2, 3, 4, 5, 6)\n",
      "\n",
      "\n"
     ]
    }
   ],
   "source": [
    "#*args:- Through (*) keyword we can pass n number of argument in a function. It stores the data in tuple format\n",
    "def ex1(*args):\n",
    "    print(\"argument are passed in (*) =\",args)\n",
    "ex1(1,2,3,4,5,6)\n",
    "print()\n",
    "print()"
   ]
  },
  {
   "cell_type": "code",
   "execution_count": 7,
   "id": "fa51cf16",
   "metadata": {},
   "outputs": [
    {
     "name": "stdout",
     "output_type": "stream",
     "text": [
      "argument are passed in (**) {'name': ['Aryan', 'Sonu', 'Raj'], 'course': 'Bca', 'goal': ''}\n"
     ]
    }
   ],
   "source": [
    "#**kwars:- Through (**) keyword we can pass arguments in key value format . \n",
    "#it takes arguments in also key value format like dictonary\n",
    "def ex3(**kwargs):\n",
    "    print(\"argument are passed in (**)\",kwargs)\n",
    "ex3(name=[\"Aryan\",\"Sonu\",\"Raj\"],course=\"Bca\",goal=\"\")"
   ]
  },
  {
   "cell_type": "markdown",
   "id": "cfc6e6b3",
   "metadata": {},
   "source": [
    "#Question 3. What is an iterator in python? Name the method used to intialise the iterator object and the method used for iteration.\n",
    "#Use these methods to print the first five elements of the given list[2,4,6,8,10,12,14,16,18,20]."
   ]
  },
  {
   "cell_type": "code",
   "execution_count": 8,
   "id": "04059287",
   "metadata": {},
   "outputs": [
    {
     "name": "stdout",
     "output_type": "stream",
     "text": [
      "2\n",
      "4\n",
      "6\n",
      "8\n",
      "10\n"
     ]
    }
   ],
   "source": [
    "\"\"\"Iterator function:= it is a type of data in which we can go to its next to next elements.\n",
    "   We iterate only iterable objct which can be iterable\"\"\"\n",
    "l=[2,4,6,8,10,12,14,16,18,20]\n",
    "numbers=iter(l)\n",
    "# initalizing for loop for iterating first 5 elements in a loop\n",
    "for i in range(5):\n",
    "    print(next(numbers))"
   ]
  },
  {
   "cell_type": "markdown",
   "id": "750a932d",
   "metadata": {},
   "source": [
    "#Questions 4. What is generator function in python? Why yield keyword is used? Give an example of a generator function."
   ]
  },
  {
   "cell_type": "code",
   "execution_count": 12,
   "id": "7af75bcb",
   "metadata": {},
   "outputs": [
    {
     "name": "stdout",
     "output_type": "stream",
     "text": [
      "1\n",
      "2\n",
      "3\n",
      "4\n",
      "5\n"
     ]
    }
   ],
   "source": [
    "''' Generator function is function that generates values next to next in sequence and continuosly manner. it take less memory block \n",
    ". Yield keyword is used to make any function , generator function . it works like return , yield return value sequencly automaticaly'''\n",
    "\n",
    "# Example of generator function\n",
    "def count_test(n):\n",
    "    count = 1 \n",
    "    while count <= n :\n",
    "        yield count\n",
    "        count = count + 1\n",
    "c= count_test(5)\n",
    "for i in c:\n",
    "    print(i)"
   ]
  },
  {
   "cell_type": "markdown",
   "id": "c6a2896f",
   "metadata": {},
   "source": [
    "#Question 5. Create a generator function for prime numbers less than 1000. Use the next()method to print the first 20 prime numbers."
   ]
  },
  {
   "cell_type": "code",
   "execution_count": 14,
   "id": "4851a44d",
   "metadata": {},
   "outputs": [
    {
     "name": "stdout",
     "output_type": "stream",
     "text": [
      "2\n",
      "3\n",
      "5\n",
      "7\n",
      "11\n",
      "13\n",
      "17\n",
      "19\n",
      "23\n",
      "29\n",
      "31\n",
      "37\n",
      "41\n",
      "43\n",
      "47\n",
      "53\n",
      "59\n",
      "61\n",
      "67\n",
      "71\n"
     ]
    }
   ],
   "source": [
    "def prime_num():\n",
    "    for i in range(1,1000):\n",
    "        if i>1:\n",
    "            for j in range(2,i):\n",
    "                if(i % j)==0:\n",
    "                    break\n",
    "            else:\n",
    "                yield i\n",
    "n=prime_num()\n",
    "num=iter(n)\n",
    "for i in range(20):\n",
    "    print(next(n))"
   ]
  },
  {
   "cell_type": "markdown",
   "id": "2d426d56",
   "metadata": {},
   "source": [
    "#Question 6. Write a python program to print the first 10 fibonacci numbers using a while loop."
   ]
  },
  {
   "cell_type": "code",
   "execution_count": 23,
   "id": "d7eb733f",
   "metadata": {},
   "outputs": [
    {
     "name": "stdout",
     "output_type": "stream",
     "text": [
      "1\n",
      "1\n",
      "2\n",
      "3\n",
      "5\n",
      "8\n",
      "13\n",
      "21\n",
      "34\n"
     ]
    }
   ],
   "source": [
    "i = 0\n",
    "a,b=0,1\n",
    "           \n",
    "# Find & Displaying\n",
    "while(i <11):\n",
    "    if(i <= 1):\n",
    "        c= i\n",
    "    else:\n",
    "        print(c)\n",
    "        c = a+b\n",
    "        a = b\n",
    "        b = c\n",
    "    i = i + 1\n",
    "    "
   ]
  },
  {
   "cell_type": "markdown",
   "id": "34d039d3",
   "metadata": {},
   "source": [
    "#Question 7. Write a list comprehension to iterate through the given string:'pwskills'."
   ]
  },
  {
   "cell_type": "code",
   "execution_count": 24,
   "id": "38b2cf2c",
   "metadata": {},
   "outputs": [
    {
     "data": {
      "text/plain": [
       "['p', 'w', 's', 'k', 'i', 'l', 'l', 's']"
      ]
     },
     "execution_count": 24,
     "metadata": {},
     "output_type": "execute_result"
    }
   ],
   "source": [
    "st='pwskills'\n",
    "[str(i) for i in st]"
   ]
  },
  {
   "cell_type": "markdown",
   "id": "57474834",
   "metadata": {},
   "source": [
    "#Question 8. Write a python program to check whether a given number is pallindrome or not using a while loop."
   ]
  },
  {
   "cell_type": "code",
   "execution_count": 29,
   "id": "42f7106e",
   "metadata": {},
   "outputs": [
    {
     "name": "stdout",
     "output_type": "stream",
     "text": [
      "Enter a value:14\n",
      "This value is not a palindrome number!\n"
     ]
    }
   ],
   "source": [
    "num = int(input(\"Enter a value:\"))  \n",
    "n = num  \n",
    "i= 0  \n",
    "while(num > 0):  \n",
    "    dig = num % 10  \n",
    "    revrev= i * 10 + dig  \n",
    "    num= num // 10  \n",
    "if(n == i):  \n",
    "    print(\"This value is a palindrome number!\")  \n",
    "else:  \n",
    "    print(\"This value is not a palindrome number!\") "
   ]
  },
  {
   "cell_type": "markdown",
   "id": "618219c2",
   "metadata": {},
   "source": [
    "#Question 9. Write a code to print odd numbers from 1 to 100 using list comprehension."
   ]
  },
  {
   "cell_type": "code",
   "execution_count": 34,
   "id": "418b9811",
   "metadata": {},
   "outputs": [
    {
     "data": {
      "text/plain": [
       "[1,\n",
       " 3,\n",
       " 5,\n",
       " 7,\n",
       " 9,\n",
       " 11,\n",
       " 13,\n",
       " 15,\n",
       " 17,\n",
       " 19,\n",
       " 21,\n",
       " 23,\n",
       " 25,\n",
       " 27,\n",
       " 29,\n",
       " 31,\n",
       " 33,\n",
       " 35,\n",
       " 37,\n",
       " 39,\n",
       " 41,\n",
       " 43,\n",
       " 45,\n",
       " 47,\n",
       " 49,\n",
       " 51,\n",
       " 53,\n",
       " 55,\n",
       " 57,\n",
       " 59,\n",
       " 61,\n",
       " 63,\n",
       " 65,\n",
       " 67,\n",
       " 69,\n",
       " 71,\n",
       " 73,\n",
       " 75,\n",
       " 77,\n",
       " 79,\n",
       " 81,\n",
       " 83,\n",
       " 85,\n",
       " 87,\n",
       " 89,\n",
       " 91,\n",
       " 93,\n",
       " 95,\n",
       " 97,\n",
       " 99]"
      ]
     },
     "execution_count": 34,
     "metadata": {},
     "output_type": "execute_result"
    }
   ],
   "source": [
    "l =range(1,100)\n",
    "[i for i in l if i% 2!=0]"
   ]
  },
  {
   "cell_type": "code",
   "execution_count": null,
   "id": "63f75084",
   "metadata": {},
   "outputs": [],
   "source": []
  }
 ],
 "metadata": {
  "kernelspec": {
   "display_name": "Python 3 (ipykernel)",
   "language": "python",
   "name": "python3"
  },
  "language_info": {
   "codemirror_mode": {
    "name": "ipython",
    "version": 3
   },
   "file_extension": ".py",
   "mimetype": "text/x-python",
   "name": "python",
   "nbconvert_exporter": "python",
   "pygments_lexer": "ipython3",
   "version": "3.11.1"
  }
 },
 "nbformat": 4,
 "nbformat_minor": 5
}
