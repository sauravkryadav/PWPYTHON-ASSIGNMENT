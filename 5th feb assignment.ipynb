{
 "cells": [
  {
   "cell_type": "markdown",
   "id": "5a42ed32",
   "metadata": {},
   "source": [
    "#Q1\n",
    "=Class:- Class is the blueprint , template , framework that contain object \n",
    "    properties and behavior.\n",
    "=Object:- An object is an instance of a class . it ia an entity that has state\n",
    "    properties,attributes and behavior. ex:- book,car,student etc \n",
    "        \n"
   ]
  },
  {
   "cell_type": "markdown",
   "id": "67f8f7c3",
   "metadata": {},
   "source": [
    "#Q2.Answer\n",
    "=The Four pillars are Inheritance, Polymorphism, Encapsulation and Abstraction."
   ]
  },
  {
   "cell_type": "markdown",
   "id": "14edf480",
   "metadata": {},
   "source": [
    "#Q3 Answer\n",
    "= __init__():-__init__() or constructor it is a special type of member method of python class which is\n",
    "    automatically invoked at the time of object creation.\n",
    "    it is used for member variable initalization.\n",
    "    \n",
    "    "
   ]
  },
  {
   "cell_type": "code",
   "execution_count": 2,
   "id": "559e8547",
   "metadata": {},
   "outputs": [
    {
     "name": "stdout",
     "output_type": "stream",
     "text": [
      "studnet details\n",
      "name of the student= raj\n",
      "sutdent id= 101\n",
      "student course= PW- Data Science Masters\n"
     ]
    }
   ],
   "source": [
    "#EXAMPLE OF Q3 \n",
    "class student:\n",
    "    def __init__(self,id,name,course):\n",
    "        self.id=id\n",
    "        self.name=name\n",
    "        self.course=course\n",
    "    def display(self):\n",
    "        print(\"studnet details\")\n",
    "        print(\"name of the student=\",self.name)\n",
    "        print(\"sutdent id=\",self.id)\n",
    "        print(\"student course=\",self.course)\n",
    "st1=student(101,\"raj\",'PW- Data Science Masters')\n",
    "st1.display();"
   ]
  },
  {
   "cell_type": "markdown",
   "id": "56593f08",
   "metadata": {},
   "source": [
    "#Q4 Answer\n",
    "= Self parameter refers to the currnet instance of the class and by self we access the class member varaible"
   ]
  },
  {
   "cell_type": "markdown",
   "id": "0a293e89",
   "metadata": {},
   "source": [
    "#Q5 Answer\n",
    "=Inheritance is the major concept , it's main concept is based on code re-usability.\n",
    "    In inheritance a class is inherited by another class.\n",
    "    :- There are 5 types of inheritance\n",
    "        1. Single Inheritance= it access single base class properties \n",
    "        2. Multiple Inheritance= it access two base calss properties in new class.\n",
    "        3. Multilevel Inheritance= it access features of base and super class in new calss.\n",
    "        4. Hirerarchial Inheritance= it is base of one super class into many base classes with super class property.\n",
    "        5. Hybrid Inheritance= Inheritance consisting of multiple types of inheritance is called hybrid inheritance.\n",
    "    "
   ]
  },
  {
   "cell_type": "code",
   "execution_count": 3,
   "id": "93169add",
   "metadata": {},
   "outputs": [
    {
     "name": "stdout",
     "output_type": "stream",
     "text": [
      "enter name=raj\n",
      "enter gender=male\n",
      "enter age=19\n",
      "entre subject name=python\n",
      "enter school name=pw\n",
      "name of the teacher= raj\n",
      "gender of teacher= male\n",
      "age of the teacher= 19\n",
      "subjet of the teacher= python\n",
      "school name= pw\n"
     ]
    }
   ],
   "source": [
    "#single level inherutance ex\n",
    "class person:\n",
    "    def details(self):\n",
    "        self.name=input(\"enter name=\")\n",
    "        self.gender=input(\"enter gender=\")\n",
    "        self.age=int(input(\"enter age=\"))  \n",
    "    def disp(self):\n",
    "        print(\"name of the teacher=\",self.name)\n",
    "        print(\"gender of teacher=\",self.gender)\n",
    "        print(\"age of the teacher=\",self.age)\n",
    "\n",
    "class teacher(person): # this class access person base class properties\n",
    "    def info(self):\n",
    "        self.details()\n",
    "        self.subject=input(\"entre subject name=\")\n",
    "        self.s_name=input(\"enter school name=\")\n",
    "    \n",
    "    def display(self):\n",
    "        self.disp()\n",
    "        print(\"subjet of the teacher=\",self.subject)\n",
    "        print(\"school name=\",self.s_name)\n",
    "        \n",
    "\n",
    "d1=teacher()\n",
    "d1.info()\n",
    "d1.display()"
   ]
  },
  {
   "cell_type": "code",
   "execution_count": 4,
   "id": "003b03b2",
   "metadata": {},
   "outputs": [
    {
     "name": "stdout",
     "output_type": "stream",
     "text": [
      "a\n",
      "b\n",
      "c\n"
     ]
    }
   ],
   "source": [
    "#Multiple\n",
    "class a:\n",
    "    def a1(self):\n",
    "        print(\"a\")\n",
    "class b:\n",
    "    def b1(self):\n",
    "        print(\"b\")\n",
    "class c(a,b): #Multiple inheritance the class c inherit class a and b properties\n",
    "#     self.a1()\n",
    "#     self.b1()\n",
    "    def c1(self):\n",
    "        self.a1()\n",
    "        self.b1()\n",
    "        print(\"c\")\n",
    "trying=c()\n",
    "trying.c1()"
   ]
  },
  {
   "cell_type": "code",
   "execution_count": 12,
   "id": "c1590b17",
   "metadata": {},
   "outputs": [
    {
     "name": "stdout",
     "output_type": "stream",
     "text": [
      "a\n",
      "b\n",
      "c\n"
     ]
    }
   ],
   "source": [
    "# mutilevel Inheritance\n",
    "class a:\n",
    "    def a1(self):\n",
    "        print(\"a\")\n",
    "class b(a):\n",
    "    def b1(self):\n",
    "        self.a1()\n",
    "        print(\"b\")\n",
    "class c(b):\n",
    "    def c1(self):\n",
    "        self.b1()\n",
    "        print(\"c\")\n",
    "trying=c()\n",
    "trying.c1()\n"
   ]
  },
  {
   "cell_type": "code",
   "execution_count": 10,
   "id": "f1dc29bc",
   "metadata": {},
   "outputs": [
    {
     "name": "stdout",
     "output_type": "stream",
     "text": [
      "This function is in super class.\n",
      "This function is in base class 1.\n",
      "This function is in super class.\n",
      "This function is in base class 2.\n"
     ]
    }
   ],
   "source": [
    "#Hierarchial Inheritrance\n",
    "class super1:\n",
    "    def func1(self):\n",
    "        print(\"This function is in super class.\")\n",
    " \n",
    " \n",
    "class base1(super1):\n",
    "    def func2(self):\n",
    "        print(\"This function is in base class 1.\")\n",
    " \n",
    "# Derivied class2\n",
    " \n",
    " \n",
    "class base2(super1):\n",
    "    def func3(self):\n",
    "        print(\"This function is in base class 2.\")\n",
    " \n",
    " \n",
    "# Driver's code\n",
    "object1 = base1()\n",
    "object2 = base2()\n",
    "object1.func1()\n",
    "object1.func2()\n",
    "object2.func1()\n",
    "object2.func3()"
   ]
  },
  {
   "cell_type": "code",
   "execution_count": 9,
   "id": "4c9d3989",
   "metadata": {},
   "outputs": [
    {
     "name": "stdout",
     "output_type": "stream",
     "text": [
      "This is super class with some property\n",
      "This is base class 1st is with super class property\n"
     ]
    }
   ],
   "source": [
    "# hybrid inheritance\n",
    "class first:\n",
    "    def func1(self):\n",
    "        print(\"This is super class with some property\")\n",
    " \n",
    " \n",
    "class no_1(first):\n",
    "    def func2(self):\n",
    "        print(\"This is base class 1st is with super class property\")\n",
    " \n",
    " \n",
    "class no_1_1(first):\n",
    "    def func3(self):\n",
    "        print(\"This is base class 2nd with some super class property\")\n",
    " \n",
    " \n",
    "class no_1_2(no_1, first):\n",
    "    def func4(self):\n",
    "        print(\"This is base class 3rd with some super class property\")\n",
    " \n",
    " \n",
    "\n",
    "test= no_1_2()\n",
    "test.func1()\n",
    "test.func2()\n"
   ]
  },
  {
   "cell_type": "code",
   "execution_count": null,
   "id": "126448dd",
   "metadata": {},
   "outputs": [],
   "source": []
  }
 ],
 "metadata": {
  "kernelspec": {
   "display_name": "Python 3 (ipykernel)",
   "language": "python",
   "name": "python3"
  },
  "language_info": {
   "codemirror_mode": {
    "name": "ipython",
    "version": 3
   },
   "file_extension": ".py",
   "mimetype": "text/x-python",
   "name": "python",
   "nbconvert_exporter": "python",
   "pygments_lexer": "ipython3",
   "version": "3.10.6"
  }
 },
 "nbformat": 4,
 "nbformat_minor": 5
}
