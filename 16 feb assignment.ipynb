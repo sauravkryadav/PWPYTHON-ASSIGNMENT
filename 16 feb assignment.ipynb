{
 "cells": [
  {
   "cell_type": "code",
   "execution_count": null,
   "id": "b1e9a80d",
   "metadata": {},
   "outputs": [],
   "source": [
    "\"\"\"Q1. What is a database? Differentiate between SQL and NoSQL databases?.\n",
    "\n",
    "ANS=\n",
    "\n",
    "A database is a structured collection of data that can be accessed, managed, and updated easily.\n",
    "It can be used to store, organize, and retrieve data efficiently.\n",
    "There are two types of databases: SQL (relational) and NoSQL (non-relational).\n",
    "\n",
    "SQL databases are based on a relational model and use Structured Query Language (SQL) to manage data.\n",
    "They are used to manage structured data that can be represented in a tabular form. Examples of SQL databases include MySQL, Oracle, and SQL Server.\n",
    "\n",
    "NoSQL databases, on the other hand, are designed to handle unstructured and semi-structured data.\n",
    "They do not use a tabular structure and do not rely on SQL for querying data. Examples of NoSQL databases include MongoDB, Cassandra, and Redis.\"\"\""
   ]
  },
  {
   "cell_type": "code",
   "execution_count": null,
   "id": "5f6901c2",
   "metadata": {},
   "outputs": [],
   "source": [
    "\"\"\"Q2. What is DDL? Explain why CREATE, DROP, ALTER, and TRUNCATE are used with an example.\"\"\"\n",
    "#ans\n",
    "\"\"\"1. CREATE: It is used to create a new database object, such as a table or index.\n",
    "For example, the following command creates a new table named \"customers\":\n",
    "        CREATE TABLE customers (\n",
    "        id INT NOT NULL,\n",
    "        name VARCHAR(255) NOT NULL,\n",
    "        email VARCHAR(255),\n",
    "        PRIMARY KEY (id)\n",
    "        );\"\"\"\n",
    "\n",
    "\"\"\"2.DROP: It is used to delete a database object, such as a table or index.\n",
    "For example, the following command deletes the \"customers\" table:\n",
    "        DROP TABLE customers;\"\"\"\n",
    "\n",
    "\"\"\"3.ALTER: It is used to modify the structure of a database object, such as adding or deleting columns from a table.\n",
    "For example, the following command adds a new column named \"address\" to the \"customers\" table:\n",
    "        ALTER TABLE customers ADD address VARCHAR(255); \"\"\"\n",
    "\n",
    "\"\"\"4.TRUNCATE: It is used to delete all the data from a table without deleting the table itself.\n",
    "For example, the following command deletes all the data from the \"customers\" table:\n",
    "        TRUNCATE TABLE customers;\"\"\""
   ]
  },
  {
   "cell_type": "code",
   "execution_count": null,
   "id": "097277d4",
   "metadata": {},
   "outputs": [],
   "source": [
    "\"\"\"Q3. What is DML? Explain INSERT, UPDATE, and DELETE with an example.\n",
    "\n",
    "ans=\n",
    "\n",
    "DML stands for Data Manipulation Language. It is used to manipulate the data stored in the database.\n",
    "The following are some examples of DML commands:\n",
    "\n",
    "INSERT: It is used to insert new data into a table. For example, the following command inserts a new record into the \"customers\" table:\n",
    "        INSERT INTO customers (id, name, email) VALUES (1, 'John', 'john@example.com');\n",
    "\n",
    "UPDATE: It is used to modify existing data in a table. For example, the following command updates the email address of the record with id 1 in the \"customers\" table:\n",
    "        UPDATE customers SET email = 'john.doe@example.com' WHERE id = 1;\n",
    "\n",
    "DELETE: It is used to delete data from a table. For example, the following command deletes the record with id 1 from the \"customers\" table:\n",
    "        DELETE FROM customers WHERE id = 1;\"\"\""
   ]
  },
  {
   "cell_type": "code",
   "execution_count": null,
   "id": "da8ace91",
   "metadata": {},
   "outputs": [],
   "source": [
    "\"\"\"Q4. What is DQL? Explain SELECT with an example.\n",
    "\n",
    "DQL stands for Data Query Language. It is used to query the data stored in the database.\n",
    "The most commonly used DQL command is SELECT, which is used to retrieve data from one or more tables.\n",
    "For example, the following command retrieves all the data from the \"customers\" table:\n",
    "\n",
    "        SELECT * FROM customers;\n",
    "\n",
    "This command will return a result set that contains all the columns and rows from the \"customers\" table. You can also specify which columns you want to retrieve by listing them after the SELECT keyword. For example,\"\"\""
   ]
  },
  {
   "cell_type": "code",
   "execution_count": null,
   "id": "0dfefa60",
   "metadata": {},
   "outputs": [],
   "source": [
    "\"\"\"Q5.Explain Primary Key and Foreign Key.\n",
    "\n",
    "ANS= Primary Key is a column or a set of columns in a database table that uniquely identifies each row in the table.\n",
    "It is used to enforce data integrity and consistency in the table.\n",
    "The primary key constraint ensures that the values in the primary key column(s) are unique and not null.\n",
    "\n",
    "Foreign Key is a column or a set of columns in a table that refers to the primary key of another table.\n",
    "It establishes a relationship between two tables based on a common column.\n",
    "The foreign key constraint ensures that the values in the foreign key column(s) of the table refer to an existing primary key value in the referenced table or are null.\"\"\""
   ]
  },
  {
   "cell_type": "code",
   "execution_count": null,
   "id": "a7053bca",
   "metadata": {},
   "outputs": [],
   "source": [
    "\"\"\"Q6. Write a python code to connect MySQL to python. Explain the cursor() and execute() method.\"\"\"\n",
    "#ANS\n",
    "import mysql.connector\n",
    "\n",
    "# establish a connection to the MySQL server\n",
    "mydb = mysql.connector.connect(\n",
    "  host=\"localhost\",\n",
    "  user=\"yourusername\",\n",
    "  password=\"yourpassword\",\n",
    "  database=\"yourdatabase\"\n",
    ")\n",
    "\n",
    "# create a cursor object to interact with the database\n",
    "mycursor = mydb.cursor()\n",
    "\n",
    "# execute a SQL query\n",
    "mycursor.execute(\"SELECT * FROM customers\")\n",
    "\n",
    "# fetch the result set\n",
    "result = mycursor.fetchall()\n",
    "\n",
    "# print the result set\n",
    "for row in result:\n",
    "  print(row)\n"
   ]
  },
  {
   "cell_type": "code",
   "execution_count": null,
   "id": "6d44b9c8",
   "metadata": {},
   "outputs": [],
   "source": [
    "\"\"\"Q7. Give the order of execution of SQL clauses in an SQL query.\n",
    "\n",
    "ANS= The order of execution of SQL clauses in an SQL query is as follows:\n",
    "\n",
    "SELECT\n",
    "FROM\n",
    "JOIN\n",
    "WHERE\n",
    "GROUP BY\n",
    "HAVING\n",
    "ORDER BY\n",
    "\n",
    "     EXPLANING ECAH QUERY:-\n",
    "\n",
    "The SELECT clause specifies the columns to be retrieved from the database.\n",
    "\n",
    "The FROM clause specifies the tables to be queried.\n",
    "\n",
    "The JOIN clause is used to combine rows from two or more tables based on a related column between them.\n",
    "\n",
    "The WHERE clause filters the rows based on a condition. The GROUP BY clause is used to group the rows based on a column or a set of columns. The HAVING clause filters the grouped rows based on a condition.\n",
    "\n",
    "The ORDER BY clause is used to sort the result set based on one or more columns in ascending or descending order.\n",
    "\n",
    "\n",
    "\n",
    "\n",
    "\n",
    "\"\"\""
   ]
  }
 ],
 "metadata": {
  "kernelspec": {
   "display_name": "Python 3 (ipykernel)",
   "language": "python",
   "name": "python3"
  },
  "language_info": {
   "codemirror_mode": {
    "name": "ipython",
    "version": 3
   },
   "file_extension": ".py",
   "mimetype": "text/x-python",
   "name": "python",
   "nbconvert_exporter": "python",
   "pygments_lexer": "ipython3",
   "version": "3.10.6"
  }
 },
 "nbformat": 4,
 "nbformat_minor": 5
}
