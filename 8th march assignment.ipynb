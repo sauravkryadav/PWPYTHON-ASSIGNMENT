{
 "cells": [
  {
   "cell_type": "code",
   "execution_count": null,
   "id": "a2c10faf",
   "metadata": {},
   "outputs": [],
   "source": [
    "#Question no1\n",
    "#what is probability density function?\n",
    "\"\"\"Ans:-the probability density function (PDF) is a function that describes the probability distribution of a continuous random variable.\n",
    "The PDF represents the relative likelihood of observing a specific value or a range of values for the random variable.\"\"\""
   ]
  },
  {
   "cell_type": "code",
   "execution_count": null,
   "id": "77b0d301",
   "metadata": {},
   "outputs": [],
   "source": [
    "#Question no2\n",
    "#What are the types of Probability distribution?\n",
    "\"\"\"Ans:-There are several types of probability distributions, each with its own characteristics and applications. \n",
    "Here are some types are:-\n",
    "1. Uniform Distribution\n",
    "2.normal distribution\n",
    "3.exponential distribution\n",
    "4.poisson distribution\n",
    "5.binomial distribution\n",
    "\"\"\""
   ]
  },
  {
   "cell_type": "code",
   "execution_count": 1,
   "id": "d6e6edab",
   "metadata": {},
   "outputs": [
    {
     "name": "stdout",
     "output_type": "stream",
     "text": [
      "PDF at x = 1 : 0.24197072451914337\n"
     ]
    }
   ],
   "source": [
    "#Q3. Write a Python function to calculate the probability density function of a normal distribution with\n",
    "#given mean and standard deviation at a given point.\n",
    "\"\"\"Ans:-\"\"\"\n",
    "import math\n",
    "\n",
    "def normal_pdf(x, mean, std_dev):\n",
    "    exponent = -((x - mean) ** 2) / (2 * std_dev ** 2)\n",
    "    coefficient = 1 / (std_dev * math.sqrt(2 * math.pi))\n",
    "    pdf = coefficient * math.exp(exponent)\n",
    "    return pdf\n",
    "mean = 0  # Mean of the normal distribution\n",
    "std_dev = 1  # Standard deviation of the normal distribution\n",
    "x = 1  # Point at which to calculate the PDF\n",
    "\n",
    "pdf_value = normal_pdf(x, mean, std_dev)\n",
    "print(\"PDF at x =\", x, \":\", pdf_value)\n"
   ]
  },
  {
   "cell_type": "code",
   "execution_count": null,
   "id": "e6fb028a",
   "metadata": {},
   "outputs": [],
   "source": [
    "#Q4. What are the properties of Binomial distribution? Give two examples of events where binomial\n",
    "#distribution can be applied.\n",
    "\n",
    "\"\"\"\"Ans:-The binomial distribution has several key properties:\n",
    "\n",
    "1.Fixed Number of Trials: The binomial distribution models a fixed number of independent trials, denoted as n. Each trial can result in one of two possible outcomes, typically labeled as success (S) or failure (F).\n",
    "\n",
    "2.Independent Trials: The trials are assumed to be independent, meaning the outcome of one trial does not influence the outcomes of other trials.\n",
    "\n",
    "3.Constant Probability: The probability of success, denoted as p remains constant for each trial. The probability of failure is equal to 1 - p.\n",
    "\n",
    "4.Binary Outcomes: Each trial results in a binary outcome, either success or failure.\n",
    "\n",
    "5.Counting Successes: The binomial distribution focuses on counting the number of successes, denoted as k, that occur in the given fixed number of trials.\n",
    "\"\"\"\"\n",
    "\"\"\"Exaples are:-\n",
    "1.Coin Flipping: Consider a scenario where you flip a fair coin 10 times and count the number of heads that appear. Each flip has two possible outcomes (heads or tails),\n",
    "and the probability of getting a head is constant at 0.5. The binomial distribution can be used to calculate the probability of obtaining a specific number of heads in the 10 flips.\n",
    "\n",
    "2.Drug Trial: In a clinical drug trial, researchers may be interested in measuring the number of patients who respond positively to a new medication out of a fixed number of participants.\n",
    "Each patient can be considered as having two possible outcomes (responding positively or not), and the probability of a positive response remains constant throughout the trial.\n",
    "The binomial distribution can be used to analyze the likelihood of observing a certain number of positive responses among the participants.\"\"\""
   ]
  },
  {
   "cell_type": "code",
   "execution_count": 2,
   "id": "011b5374",
   "metadata": {},
   "outputs": [
    {
     "data": {
      "image/png": "[encoded data removed]",
      "text/plain": [
       "<Figure size 640x480 with 1 Axes>"
      ]
     },
     "metadata": {},
     "output_type": "display_data"
    }
   ],
   "source": [
    "#Q5. Generate a random sample of size 1000 from a binomial distribution with probability of success 0.4\n",
    "#and plot a histogram of the results using matplotlib.\n",
    "\n",
    "\"\"\"Ans:-\"\"\"\n",
    "import numpy as np\n",
    "import matplotlib.pyplot as plt\n",
    "\n",
    "# Parameters\n",
    "n = 1000  # Sample size\n",
    "p = 0.4  # Probability of success\n",
    "\n",
    "# Generate random sample\n",
    "sample = np.random.binomial(1, p, n)\n",
    "\n",
    "# Plot histogram\n",
    "plt.hist(sample, bins=2, edgecolor='black')\n",
    "plt.xlabel('Success (1) / Failure (0)')\n",
    "plt.ylabel('Frequency')\n",
    "plt.title('Binomial Distribution Sample')\n",
    "plt.xticks([0, 1])\n",
    "plt.show()\n"
   ]
  },
  {
   "cell_type": "code",
   "execution_count": 3,
   "id": "5002731c",
   "metadata": {},
   "outputs": [
    {
     "name": "stdout",
     "output_type": "stream",
     "text": [
      "CDF at x = 5 : 0.9160820579686966\n"
     ]
    }
   ],
   "source": [
    "#Q6. Write a Python function to calculate the cumulative distribution function of a Poisson distribution\n",
    "#with given mean at a given point.\n",
    "\n",
    "\"\"\"Ans:-\"\"\"\n",
    "import math\n",
    "\n",
    "def poisson_cdf(x, mean):\n",
    "    cdf = 0\n",
    "    for k in range(x + 1):\n",
    "        cdf += (math.exp(-mean) * mean ** k) / math.factorial(k)\n",
    "    return cdf\n",
    "mean = 3  # Mean of the Poisson distribution\n",
    "x = 5  # Point at which to calculate the CDF\n",
    "\n",
    "cdf_value = poisson_cdf(x, mean)\n",
    "print(\"CDF at x =\", x, \":\", cdf_value)\n"
   ]
  },
  {
   "cell_type": "code",
   "execution_count": null,
   "id": "28c69ca2",
   "metadata": {},
   "outputs": [],
   "source": [
    "#Q7. How Binomial distribution different from Poisson distribution?\n",
    "\n",
    "\"\"\"Ans:- Here are some key differences between the two:\n",
    "\n",
    "1.Number of Trials: The Binomial distribution models a fixed number of independent trials, denoted as \"n,\" with a binary outcome (success or failure).\n",
    "In contrast, the Poisson distribution does not involve a fixed number of trials but instead models the number of events that occur in a fixed interval of time or space.\n",
    "\n",
    "2.Probability of Success: In the Binomial distribution, the probability of success, denoted as \"p,\" remains constant for each trial.\n",
    "The probability of failure is equal to 1 - p. On the other hand, the Poisson distribution does not have a probability of success.\n",
    "Instead, it is parameterized by a single parameter, denoted as \"λ\" (lambda), which represents the average rate of events occurring in the given interval.\n",
    "\n",
    "3.Independence: In the Binomial distribution, each trial is assumed to be independent, meaning the outcome of one trial does not influence the outcomes of other trials.\n",
    "In contrast, the Poisson distribution assumes that events occur independently of each other, but the number of events in a given interval may depend on the average rate of events (parameter λ).\n",
    "\n",
    "4.Outcome: The Binomial distribution focuses on counting the number of successes that occur in a fixed number of trials.\n",
    "The Poisson distribution, on the other hand, models the number of events that occur in a fixed interval of time or space.\n",
    "\n",
    "5.Shape: The shape of the Binomial distribution is typically bell-shaped when the number of trials is large, and the probability of success is not extremely close to 0 or 1.\n",
    "The shape of the Poisson distribution is often skewed to the right.\"\"\""
   ]
  },
  {
   "cell_type": "code",
   "execution_count": 4,
   "id": "dd03b871",
   "metadata": {},
   "outputs": [
    {
     "name": "stdout",
     "output_type": "stream",
     "text": [
      "Sample Mean: 5.074\n",
      "Sample Variance: 4.7585239999999995\n"
     ]
    }
   ],
   "source": [
    "#Q8. Generate a random sample of size 1000 from a Poisson distribution with mean 5 and calculate the\n",
    "#sample mean and variance.\n",
    "\n",
    "\"\"\"Ans:-\"\"\"\n",
    "import numpy as np\n",
    "\n",
    "# Parameters\n",
    "n = 1000  # Sample size\n",
    "mean = 5  # Mean of the Poisson distribution\n",
    "\n",
    "# Generate random sample\n",
    "sample = np.random.poisson(mean, n)\n",
    "\n",
    "# Calculate sample mean and variance\n",
    "sample_mean = np.mean(sample)\n",
    "sample_variance = np.var(sample)\n",
    "\n",
    "# Print results\n",
    "print(\"Sample Mean:\", sample_mean)\n",
    "print(\"Sample Variance:\", sample_variance)\n"
   ]
  },
  {
   "cell_type": "code",
   "execution_count": null,
   "id": "6ebcc1d5",
   "metadata": {},
   "outputs": [],
   "source": [
    "#Q9. How mean and variance are related in Binomial distribution and Poisson distribution?\n",
    "\"\"\"Ans:-In Binomial distribution, the mean is directly proportional to the number of trials and the probability of success,\n",
    "while the variance is also influenced by the probability of failure.\n",
    "\n",
    "In  Poisson distribution, the mean and variance are both equal to the parameter λ,\n",
    "which represents the average rate of events occurring in the given interval.\"\"\""
   ]
  },
  {
   "cell_type": "code",
   "execution_count": null,
   "id": "b3bff7e5",
   "metadata": {},
   "outputs": [],
   "source": [
    "#Q10. In normal distribution with respect to mean position, where does the least frequent data appear?\n",
    "\"\"\"Ans:-In a normal distribution, the least frequent data appears in the tails of the distribution, far away from the mean position.\"\"\""
   ]
  }
 ],
 "metadata": {
  "kernelspec": {
   "display_name": "Python 3 (ipykernel)",
   "language": "python",
   "name": "python3"
  },
  "language_info": {
   "codemirror_mode": {
    "name": "ipython",
    "version": 3
   },
   "file_extension": ".py",
   "mimetype": "text/x-python",
   "name": "python",
   "nbconvert_exporter": "python",
   "pygments_lexer": "ipython3",
   "version": "3.10.6"
  }
 },
 "nbformat": 4,
 "nbformat_minor": 5
}
