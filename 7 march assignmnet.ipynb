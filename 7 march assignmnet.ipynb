{
 "cells": [
  {
   "cell_type": "code",
   "execution_count": null,
   "id": "34e07084",
   "metadata": {},
   "outputs": [],
   "source": [
    "#Q1.What are the three measures of central tendency?\n",
    "\"\"\"There are 3 major central of central tendency:\n",
    "1. Mean:- it is a average value of the data set that show the center point of the dataset. it is highly affected by outliars.\n",
    "2. Median:- it is also a cental value but it work on the basic of data means if data count is even the we add the 2 value from the center from which below or above\n",
    "eqaly data lie each side , after adding this two point we normally divide it by 2.\n",
    "if our data count is odd then the center value of the dataset is measure of central tendency.\n",
    "\n",
    "3. Mode:- it is most occuring value in the data set means the data that are present mush time in dataset then we consider this the measure of centeral tendency. \"\"\""
   ]
  },
  {
   "cell_type": "code",
   "execution_count": null,
   "id": "61295453",
   "metadata": {},
   "outputs": [],
   "source": [
    "#Q2. Measure the three measures of central tendency for the given height data:\n",
    "#[178,177,176,177,178.2,178,175,179,180,175,178.9,176.2,177,172.5,178,176.5]"
   ]
  },
  {
   "cell_type": "code",
   "execution_count": 21,
   "id": "624a6c7e",
   "metadata": {},
   "outputs": [
    {
     "name": "stdout",
     "output_type": "stream",
     "text": [
      "The Mean of the given data is=\n"
     ]
    },
    {
     "data": {
      "text/plain": [
       "177.01875"
      ]
     },
     "execution_count": 21,
     "metadata": {},
     "output_type": "execute_result"
    }
   ],
   "source": [
    "import numpy as np\n",
    "data=[178,177,176,177,178.2,178,175,179,180,175,178.9,176.2,177,172.5,178,176.5]\n",
    "print(\"The Mean of the given data is=\")\n",
    "np.mean(data)\n"
   ]
  },
  {
   "cell_type": "code",
   "execution_count": 35,
   "id": "9ca9fe90",
   "metadata": {},
   "outputs": [
    {
     "name": "stdout",
     "output_type": "stream",
     "text": [
      "The Median Of the given dataset is\n"
     ]
    },
    {
     "data": {
      "text/plain": [
       "177.0"
      ]
     },
     "execution_count": 35,
     "metadata": {},
     "output_type": "execute_result"
    }
   ],
   "source": [
    "data1=np.sort(data)\n",
    "print(\"The Median Of the given dataset is\")\n",
    "np.median(data1)"
   ]
  },
  {
   "cell_type": "code",
   "execution_count": 36,
   "id": "04f8e86f",
   "metadata": {},
   "outputs": [
    {
     "name": "stdout",
     "output_type": "stream",
     "text": [
      "The Mode Of the given dataset is 178\n",
      "178 because the 178 repeate so much time in data set\n"
     ]
    }
   ],
   "source": [
    "print(\"The Mode Of the given dataset is\",178)\n",
    "print(\"178 because the 178 repeate so much time in data set\")"
   ]
  },
  {
   "cell_type": "code",
   "execution_count": 37,
   "id": "bf6d5a4a",
   "metadata": {},
   "outputs": [],
   "source": [
    "#Q3. Q4. Find the standard deviation for the given data:\n",
    "#[178,177,176,177,178.2,178,175,179,180,175,178.9,176.2,177,172.5,178,176.5]"
   ]
  },
  {
   "cell_type": "code",
   "execution_count": 34,
   "id": "100671c8",
   "metadata": {},
   "outputs": [
    {
     "name": "stdout",
     "output_type": "stream",
     "text": [
      "The Standard Deviation of the given data is\n"
     ]
    },
    {
     "data": {
      "text/plain": [
       "1.7885814036548633"
      ]
     },
     "execution_count": 34,
     "metadata": {},
     "output_type": "execute_result"
    }
   ],
   "source": [
    "import numpy as np\n",
    "data2=[178,177,176,177,178.2,178,175,179,180,175,178.9,176.2,177,172.5,178,176.5]\n",
    "print(\"The Standard Deviation of the given data is\")\n",
    "np.std(data2)"
   ]
  },
  {
   "cell_type": "code",
   "execution_count": null,
   "id": "5e5af5ab",
   "metadata": {},
   "outputs": [],
   "source": [
    "#Q5. How are measures of dispersion such as range, variance, and standard deviation used to describethe spread of a dataset? Provide an example.\n",
    "\"\"\"Ans:- Measures of dispersion such as range, variance, and standard deviation are used to describe\n",
    "the spread of a dataset by measuring how much the data points are spread out from the mean. \n",
    "\n",
    "1. Range:- Rnage is the spread of data from the lowest to the highest value in the dataset.\n",
    "2. variance:- The variance is the average of the squard different from the mean .\n",
    "it tells us how much the data points dispresed from the mean.\n",
    "3. The standard deviation is the square root of the variance.\n",
    "It is a popular measure of dispersion because it is in the same units as the data and is easy to interpret.\n",
    "A higher standard deviation indicates that the data points are more spread out.\n",
    "\n",
    "    ex:- we have a dataset[2,3,4,5,6,7,8,9,10,11]\n",
    "    :- the range=11-2=9\n",
    "    variance= (2+3+4+5+6+7+8+9+10+11)/10 = 6.5\n",
    "     then we calculate difference (2-6.5)^2+(3-6.5)^2+(4-6.5)^2+(5-6.5)^2+(6-6.5)^2\n",
    "     +(7-6.5)^2+(8-6.5)^2+(9-6.5)^2+(10-6.5)^2+(11-6.5)^2 and after that we add all these difference\n",
    "     and the variance is 9.1667.\n",
    "    standard deviation:- sqrt(9.1667)= 3.03.\n",
    "\n",
    "\n",
    "\n",
    "\"\"\""
   ]
  },
  {
   "cell_type": "code",
   "execution_count": null,
   "id": "f0d4b92d",
   "metadata": {},
   "outputs": [],
   "source": [
    "# Q6. Whta is Venn Diagram?\n",
    "\"\"\"Ans:- The veen diagram show the realtionship between two or more iteam that the iteams are \n",
    "co-realted or meeting some item in each other like that then we use venn diagram for getting \n",
    "clear cut ideam that each data is independent or not.\n",
    "\"\"\""
   ]
  },
  {
   "cell_type": "code",
   "execution_count": null,
   "id": "e87e8fa6",
   "metadata": {},
   "outputs": [],
   "source": [
    "#Q7 For the two given sets A = (2,3,4,5,6,7) & B = (0,2,6,8,10). Find:\n",
    "#(i) A B\n",
    "#(ii) A ⋃ B\n",
    "\n",
    "\"\"\"Ans:- For (A INTERSECTION B):-{ } empety set \n",
    "For A UNION B :- {0,2,3,4,5,6,7,8,10}\n",
    "\"\"\""
   ]
  },
  {
   "cell_type": "code",
   "execution_count": null,
   "id": "46c1c1a9",
   "metadata": {},
   "outputs": [],
   "source": [
    "#Q8. What do you understand about skewness in data?\n",
    "\"\"\"Ans:- Skewness is a measure of the asymmetry of the probability distribution of a random variable about its mean.\n",
    "It indicates the degree to which a distribution is skewed to the left or to the right. \"\"\""
   ]
  },
  {
   "cell_type": "code",
   "execution_count": null,
   "id": "a20fc30e",
   "metadata": {},
   "outputs": [],
   "source": [
    "#Q9  If a data is right skewed then what will be the position of median with respect to mean?\n",
    "\"\"\"Ans:- If a data is right skewed, then the median will be less than the mean.\n",
    "Because  our majority od data lies in left and less info in right.\"\"\""
   ]
  },
  {
   "cell_type": "code",
   "execution_count": null,
   "id": "4779f850",
   "metadata": {},
   "outputs": [],
   "source": [
    "#Q10. Explain the difference between covariance and correlation. How are these measures used in statistical analysis?\n",
    "\"\"\"Ans:- Covariance and correlation are two measures used in statistical analysis to describe the relationship between two variables.\n",
    "\n",
    "Covariance:- covariance signifies the direction of the linear relationship between the two variable.\n",
    "the value of covariance range from negative infinity to positive infinity.\n",
    "\n",
    "Correlation:- A correlatin cofficient is a number between -1 and 1 that tells the strength and direction of a realtionship between variables.\n",
    "it refelect how similar the measurnments of two or more variable are across a dataset.\n",
    "\n",
    "\"\"\""
   ]
  },
  {
   "cell_type": "code",
   "execution_count": 1,
   "id": "e5b1e861",
   "metadata": {},
   "outputs": [
    {
     "data": {
      "text/plain": [
       "4.5"
      ]
     },
     "execution_count": 1,
     "metadata": {},
     "output_type": "execute_result"
    }
   ],
   "source": [
    "# Q11. What is the formula for calculating the sample mean? Provide an example calculation for a dataset.\n",
    "\"\"\"Ans:- let supose the sample mean values are [2,3,5,4,6,7]\n",
    "            x^- = (summation od all data point )/ no od data points.\n",
    "            x^- = (2+3+5+4+6+7)/6\n",
    "            = 27/6 = 4.5 \"\"\"\n",
    "\n",
    "import numpy as np\n",
    "data=[2,3,5,4,6,7]\n",
    "np.mean(data)"
   ]
  },
  {
   "cell_type": "code",
   "execution_count": null,
   "id": "f9906d2f",
   "metadata": {},
   "outputs": [],
   "source": [
    "#Q12. For a normal distribution data what is the relationship between its measure of central tendency?\n",
    "\"\"\"Ans:- For a normal distribution data, the three measures of central tendency, namely the mean, median, and mode, are equal.\n",
    "This is because the normal distribution is a symmetric distribution, with the same number of observations on either side of the mean.\"\"\""
   ]
  },
  {
   "cell_type": "code",
   "execution_count": null,
   "id": "7b02266b",
   "metadata": {},
   "outputs": [],
   "source": [
    "#Q13. How is covariance different from correlation?\n",
    "\"\"\"Ans:- Covariance and correlation are two measures used in statistical analysis to describe the relationship between two variables.\n",
    "\n",
    "Covariance:- covariance signifies the direction of the linear relationship between the two variable.\n",
    "the value of covariance range from negative infinity to positive infinity.\n",
    "\n",
    "Correlation:- A correlatin cofficient is a number between -1 and 1 that tells the strength and direction of a realtionship between variables.\n",
    "it refelect how similar the measurnments of two or more variable are across a dataset.\n",
    "\"\"\""
   ]
  },
  {
   "cell_type": "code",
   "execution_count": 23,
   "id": "e5180a8f",
   "metadata": {},
   "outputs": [
    {
     "name": "stdout",
     "output_type": "stream",
     "text": [
      "Mean including outliers\n"
     ]
    },
    {
     "data": {
      "text/plain": [
       "68.18181818181819"
      ]
     },
     "execution_count": 23,
     "metadata": {},
     "output_type": "execute_result"
    }
   ],
   "source": [
    "#Q14. How do outliers affect measures of central tendency and dispersion? Provide an example.\n",
    "\n",
    "\"\"\"Ans:- Outliers are extreme values that are very different from the other values in a dataset. \n",
    "    Mean is highly affected by outliers\n",
    "    \n",
    "    for example:- [10,20,30,40,50,60,70,80,90,100,200]\n",
    "    here 200 is a outliear because it much larger than other value\n",
    "    \n",
    "    mean including outlier is = 68.1818\n",
    "    mean after removing outliear= 55.0\n",
    "    \n",
    "    Medain including outliear= 60\n",
    "    Median after removing outlier= 35\n",
    "    \n",
    "    std including outliear= 49.875\n",
    "    std without outliear= 28.722\n",
    "\"\"\"\n",
    "import numpy as np\n",
    "data2=[10,20,30,40,50,60,70,80,90,100,200]\n",
    "print(\"Mean including outliers\")\n",
    "np.mean(data2)"
   ]
  },
  {
   "cell_type": "code",
   "execution_count": 24,
   "id": "29f57b9f",
   "metadata": {},
   "outputs": [
    {
     "name": "stdout",
     "output_type": "stream",
     "text": [
      "Mean after removing outlier\n"
     ]
    },
    {
     "data": {
      "text/plain": [
       "55.0"
      ]
     },
     "execution_count": 24,
     "metadata": {},
     "output_type": "execute_result"
    }
   ],
   "source": [
    "data3=data2\n",
    "print(\"Mean after removing outlier\")\n",
    "del(data3[-1])\n",
    "np.mean(data3)\n"
   ]
  },
  {
   "cell_type": "code",
   "execution_count": null,
   "id": "1d63f759",
   "metadata": {},
   "outputs": [],
   "source": []
  }
 ],
 "metadata": {
  "kernelspec": {
   "display_name": "Python 3 (ipykernel)",
   "language": "python",
   "name": "python3"
  },
  "language_info": {
   "codemirror_mode": {
    "name": "ipython",
    "version": 3
   },
   "file_extension": ".py",
   "mimetype": "text/x-python",
   "name": "python",
   "nbconvert_exporter": "python",
   "pygments_lexer": "ipython3",
   "version": "3.10.6"
  }
 },
 "nbformat": 4,
 "nbformat_minor": 5
}
