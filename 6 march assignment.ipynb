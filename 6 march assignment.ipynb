{
 "cells": [
  {
   "cell_type": "code",
   "execution_count": null,
   "id": "1c802ffe",
   "metadata": {},
   "outputs": [],
   "source": [
    "#Q1. what is Statistics?\n",
    "\"\"\"Ans= Statistics is the sequence of collecting , organising , and analysing data.\"\"\""
   ]
  },
  {
   "cell_type": "code",
   "execution_count": null,
   "id": "5f77269f",
   "metadata": {},
   "outputs": [],
   "source": [
    "#Q2. Define the different types of statistics and give an example of when each type might be used.\n",
    "\"\"\"Ans= There are basicily two types of statistics \n",
    "    1. Descriptive Statistics:- it consist of organising and summarising data.\n",
    "                Usefull topics:- 1. Measure of Central Tendency , 2. Measure of Dispersion , 3. Different type of distribution of data etc.\n",
    "                \n",
    "                EX-A psychologist might use descriptive statistics to summarize the results of a\n",
    "                survey that measures levels of anxiety in a sample of individuals\n",
    "                \n",
    "    2. Infrential Statistics:- It consits of using data you have measured to form conclusion\n",
    "                Methods:- z-test,t-test,Hypothesis testing\n",
    "                \n",
    "                example:- A pharmaceutical company might use inferential statistics to\n",
    "                determine whether a new drug is effective in treating a certain condition.\"\"\""
   ]
  },
  {
   "cell_type": "code",
   "execution_count": null,
   "id": "ce4cfc7c",
   "metadata": {},
   "outputs": [],
   "source": [
    "#Q3. What are the different types of data and how do they differ from each other? Provide an example of each type of data.\n",
    "\"\"\"Ans:- There are two types of data.\n",
    "        1. Qualitative data:- it is a type of numeric data.\n",
    "        2. Quantitative Data:- it is type of categorical data.\n",
    "both types of data are different because in Qualitative data we work with numeric value.\n",
    "but in Quantative data we work with categorical data like words.\n",
    "\n",
    "\"\"\""
   ]
  },
  {
   "cell_type": "code",
   "execution_count": null,
   "id": "e16b944f",
   "metadata": {},
   "outputs": [],
   "source": [
    "#Q4. Categorise the following datasets with respect to quantitative and qualitative data types:\n",
    "\"\"\"Ans:-  (i) is Qualitative data.\n",
    "        (ii) is Qualitative data..\n",
    "        (iii) is Quantitaive data.\n",
    "        (iv) is Quantitaive data.\"\"\""
   ]
  },
  {
   "cell_type": "code",
   "execution_count": null,
   "id": "e63e63f8",
   "metadata": {},
   "outputs": [],
   "source": [
    "#Q5. Explain the concept of levels of measurement and give an example of a variable for each level.\n",
    "\"\"\"Ans:- On the concept of levels there are few types of measurmnets are:-\n",
    "    1. Norminal Scale data:- This is Qualitative data. In this types of data the order dosn't matter.\n",
    "        EX:- Favorate Color.\n",
    "    2.Ordinal Scale data:- in this type of data there is ranking is important ,order dosn't matter but in this types of data the difference cann't be measure\n",
    "        EX:- Rating(good,better,best)\n",
    "    3.Infrential Scale Data:- In this types of data order matter . Difference can be measure,ratio can be measure but No True 0 starting point.\n",
    "        EX:- Temprature Variable\n",
    "    4. Rtaio Scale Data:- In this type of data the order matter. Difference can be measure,Ratio can be measure. it contains 0 starting point.\n",
    "        EX:- students marks in a class.\"\"\""
   ]
  },
  {
   "cell_type": "code",
   "execution_count": null,
   "id": "175cd274",
   "metadata": {},
   "outputs": [],
   "source": [
    "#Q6. Why is it important to understand the level of measurement when analyzing data? Provide an example to illustrate your answer.\n",
    "\"\"\"Ans:- It is important to understand the level of measurement when analyzing data because\n",
    "it determines the type of statistical analysis that can be used, as well as the interpretation and generalization of results.\n",
    "Different levels of measurement require different types of analysis and may provide different information about the data.\n",
    "\n",
    "\n",
    "EX- For example, consider a study that measures the height of individuals in a population.\n",
    "If the data is nominal or categorical, where the individuals are simply grouped into categories such as \"tall\" and \"short,\"\n",
    "then only descriptive statistics such as frequency distributions and percentages can be used to analyze the data. \"\"\""
   ]
  },
  {
   "cell_type": "code",
   "execution_count": null,
   "id": "a4cbf925",
   "metadata": {},
   "outputs": [],
   "source": [
    "#Q7. How nominal data type is different from ordinal data type.\n",
    "\"\"\"Ans:- In Norminal Data Type the order dosn't matter and it is categorical data.\n",
    "but in Ordinal data type the ranking is important, order matters.\"\"\""
   ]
  },
  {
   "cell_type": "code",
   "execution_count": null,
   "id": "468d6ada",
   "metadata": {},
   "outputs": [],
   "source": [
    "#Q8. Which type of plot can be used to display data in terms of range?\n",
    "\"\"\"Ans:- We can use Boxplot for this.it shows 5 basic thigs(min,1stquartile,median,3rd quartile,max)\"\"\""
   ]
  },
  {
   "cell_type": "code",
   "execution_count": null,
   "id": "3245b269",
   "metadata": {},
   "outputs": [],
   "source": [
    "#Q9. Describe the difference between descriptive and inferential statistics. Give an example of each type of statistics and explain how they are used.\n",
    "\"\"\"Ans:- 1.Descriptive statistics: Descriptive statistics are used to describe and summarize the features of a dataset.\n",
    "            This includes measures such as the mean, median, mode, standard deviation, and range.\n",
    "            \n",
    "            EX:- Suppose a researcher wants to describe the height of a group of people.\n",
    "            They could calculate the mean height, median height, and standard deviation of the group to summarize the distribution of heights.\n",
    "            \n",
    "        2.Inferential statistics: Inferential statistics are used to make inferences and predictions about a larger population based on a smaller sample of data.\n",
    "            Inferential statistics involve testing hypotheses and determining the likelihood that the observed results are due to chance or represent a real effect\n",
    "            \n",
    "            EX:- Suppose a researcher wants to determine whether there is a significant difference in height between men and women in a population.\"\"\""
   ]
  },
  {
   "cell_type": "code",
   "execution_count": null,
   "id": "34c53c19",
   "metadata": {},
   "outputs": [],
   "source": [
    "#Q10. What are some common measures of central tendency and variability used in statistics? Explain how each measure can be used to describe a dataset.\n",
    "\"\"\"Ans:- There is various measure of central tendency and measure of variability:\n",
    "\n",
    "1. Measure of Central Tendency:- it is used for defining the center point of the data set\n",
    "        (i) Mean:- The ratio of the sum of all the observation in the data to the total number of observation.\n",
    "        (ii) Median:- It is the  middle value in distribution . first we short the data in ascending order.\n",
    "        count the number of data if no of data is even then we add two middle value and divide it by 2.\n",
    "        if odd then the middle value of data set it the median.\n",
    "        (iii) Mode:- The mode is the most commonly occuring value in a random variable or distribution.\n",
    "2. Measure Of Varaiability:- variability describe how far apart data points lie from each other and from the center of a distribution.\n",
    "        (i) Variance:- variance is a statistical measurment that tells the degree of spread in data.\n",
    "        (ii) Mean Absolute Deviation:- the mean absolute deviation of a dataset is the average distance between each point and the mean.\n",
    "        (iii) Standard Deviation:- the standard deviation is a statistical measurment is used to determine how spread out numbers are in a dataset.\n",
    "        (iv) Range:- range is the spread of data from the lowest to the highest value in the distribution.\"\"\""
   ]
  },
  {
   "cell_type": "code",
   "execution_count": null,
   "id": "bf377976",
   "metadata": {},
   "outputs": [],
   "source": []
  }
 ],
 "metadata": {
  "kernelspec": {
   "display_name": "Python 3 (ipykernel)",
   "language": "python",
   "name": "python3"
  },
  "language_info": {
   "codemirror_mode": {
    "name": "ipython",
    "version": 3
   },
   "file_extension": ".py",
   "mimetype": "text/x-python",
   "name": "python",
   "nbconvert_exporter": "python",
   "pygments_lexer": "ipython3",
   "version": "3.10.6"
  }
 },
 "nbformat": 4,
 "nbformat_minor": 5
}
