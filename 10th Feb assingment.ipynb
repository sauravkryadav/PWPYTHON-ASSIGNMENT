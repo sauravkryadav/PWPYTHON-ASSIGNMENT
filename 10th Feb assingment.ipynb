{
 "cells": [
  {
   "cell_type": "code",
   "execution_count": 1,
   "id": "588df16f",
   "metadata": {},
   "outputs": [
    {
     "data": {
      "text/plain": [
       "'Ans=In Python Open() function is used for opening a file\\n\\n         synatx= <file_object name>=open(<filename.extension name,<file opening mode>)\\n         \\nThere are several modes in which you can open a file, each of which serves a different purpose:\\n\\n\"r\" (Read mode): This is the default mode. It allows you to read the contents of a file. If the file does not exist, it will raise an error.\\n\\n\"w\" (Write mode): This mode allows you to write new contents to a file. If the file already exists, it will overwrite the existing contents. If the file does not exist, it will create a new file.\\n\\n\"a\" (Append mode): This mode allows you to add new contents to the end of a file. If the file already exists, it will append the new contents to the existing contents. If the file does not exist, it will create a new file.\\n\\n\"x\" (Exclusive creation mode): This mode is used to create a new file and open it for writing. If the file already exists, it will raise an error.\\n\\n\"b\" (Binary mode): This mode is used to open a file in binary mode, which is used to read and write non-text files, such as images or audio files.\\n\\n\"t\" (Text mode): This mode is used to open a file in text mode, which is used to read and write text files.\\n\\n\\nAnd at the end we need to close a file with close() function'"
      ]
     },
     "execution_count": 1,
     "metadata": {},
     "output_type": "execute_result"
    }
   ],
   "source": [
    "\"\"\"Q1. Which function is used to open a file? What are the different modes of opening a file? Explain each mode\n",
    "of file opening.\"\"\"\n",
    "\n",
    "\"\"\"Ans=In Python Open() function is used for opening a file\n",
    "\n",
    "         synatx= <file_object name>=open(<filename.extension name,<file opening mode>)\n",
    "         \n",
    "There are several modes in which you can open a file, each of which serves a different purpose:\n",
    "\n",
    "\"r\" (Read mode): This is the default mode. It allows you to read the contents of a file. If the file does not exist, it will raise an error.\n",
    "\n",
    "\"w\" (Write mode): This mode allows you to write new contents to a file. If the file already exists, it will overwrite the existing contents. If the file does not exist, it will create a new file.\n",
    "\n",
    "\"a\" (Append mode): This mode allows you to add new contents to the end of a file. If the file already exists, it will append the new contents to the existing contents. If the file does not exist, it will create a new file.\n",
    "\n",
    "\"x\" (Exclusive creation mode): This mode is used to create a new file and open it for writing. If the file already exists, it will raise an error.\n",
    "\n",
    "\"b\" (Binary mode): This mode is used to open a file in binary mode, which is used to read and write non-text files, such as images or audio files.\n",
    "\n",
    "\"t\" (Text mode): This mode is used to open a file in text mode, which is used to read and write text files.\n",
    "\n",
    "\n",
    "And at the end we need to close a file with close() function\"\"\""
   ]
  },
  {
   "cell_type": "code",
   "execution_count": null,
   "id": "fdb633be",
   "metadata": {},
   "outputs": [],
   "source": [
    "\"\"\" Q2. Why close() function is used? Why is it important to close a file?\n",
    "\n",
    "Ans= The close function is very important because whatever content we write in file its save and visibline when we close the file at the end.\n",
    "    If we don't close a file after open then whatever code or content we want to write in file it dosnt write or show us.\n",
    "    when we open a file it consume some systme resources , so for release this resourses we need to close a file after open .\"\"\""
   ]
  },
  {
   "cell_type": "code",
   "execution_count": 2,
   "id": "4c5eb40d",
   "metadata": {},
   "outputs": [
    {
     "name": "stdout",
     "output_type": "stream",
     "text": [
      "stored data in file is \n",
      " I wnat to become a Data Scientist\n"
     ]
    }
   ],
   "source": [
    "'''Q3. Write a python program to create a text file. Write ‘I want to become a Data Scientist’ in that file. Then\n",
    "close the file. Open this file and read the content of the file.'''\n",
    "\n",
    "#solution\n",
    "file=open(\"try.txt\",'w')\n",
    "file.write(\"I wnat to become a Data Scientist\")\n",
    "\n",
    "file.close()\n",
    "\n",
    "#opening a file for reading stored content\n",
    "file=open(\"try.txt\",'r')\n",
    "data=file.read()\n",
    "print(\"stored data in file is \\n\",data)"
   ]
  },
  {
   "cell_type": "code",
   "execution_count": 9,
   "id": "68a142c1",
   "metadata": {},
   "outputs": [
    {
     "name": "stdout",
     "output_type": "stream",
     "text": [
      "this data is read with the help of read()\n",
      "  PW skills is best platform for getting a it skills.\n",
      " I want to become a data scientist so i enroll in pw data since masters program\n",
      "\n",
      "this data is read with the help of realine()\n",
      "  PW skills is best platform for getting a it skills.\n",
      "\n",
      "this data is read with the help of readlnes()\n",
      "\n",
      " PW skills is best platform for getting a it skills.\n",
      "\n",
      " I want to become a data scientist so i enroll in pw data since masters program\n"
     ]
    }
   ],
   "source": [
    "'''Q4. Explain the following with python code: read(), readline() and readlines()?\n",
    "\n",
    "Ans= 1.read():- This function is used to read all the data or infromation from the file\n",
    "    2.readline():- This function is used to read one line string from a file . it stops when the new line comes or \\n .\n",
    "    3.readlines():- This function is used to read entire data or infromation from the file . iot return data in the form of list.\n",
    "\n",
    "'''\n",
    "\n",
    "#read():\n",
    "file=open(\"try1.txt\",'w')\n",
    "file.write(\"\"\" PW skills is best platform for getting a it skills.\n",
    " I want to become a data scientist so i enroll in pw data since masters program\"\"\")\n",
    "file.close()\n",
    "#openin a file\n",
    "file=open(\"try1.txt\",'r')\n",
    "data1=file.read()\n",
    "#printing data with read()\n",
    "\n",
    "print(\"this data is read with the help of read()\\n\",data1)\n",
    "print()\n",
    "\n",
    "file.seek(0)\n",
    "\n",
    "data2=file.readline()\n",
    "#printing data with realine\n",
    "print(\"this data is read with the help of realine()\\n\",data2)\n",
    "\n",
    "file.seek(0)\n",
    "\n",
    "data3=file.readlines()\n",
    "\n",
    "#printing the data with readlines()\n",
    "print(\"this data is read with the help of readlnes()\\n\")\n",
    "for line in data3:\n",
    "    print(line)\n",
    "\n",
    "file.close()\n"
   ]
  },
  {
   "cell_type": "code",
   "execution_count": 10,
   "id": "cc060430",
   "metadata": {},
   "outputs": [
    {
     "data": {
      "text/plain": [
       "'Q5. Explain why with statement is used with open(). What is the advantage of using with statement and\\nopen() together?\\n\\n\\nAns= The with statement in Python provides a way to work with files and other resources in a more controlled and safe way.\\nWhen we use the with statement with the open() function, it automatically takes care of closing the file once we are done with it,\\neven if an exception is raised while working with the file.\\n\\nExample= with open(\"example.txt\", \"r\") as file:\\n            content = file.read()\\n            print(content)\\n\\nAdvantage:- the advantage of using with statement and open() together is that it simplifies the process of working with files and makes the code more readable and safe.\\nWe don\\'t have to worry about explicitly closing the file, which reduces the risk of resource leaks and errors in the code. Additionally, the code becomes more concise,\\nas we don\\'t have to write a separate close() statement for each file we work with.'"
      ]
     },
     "execution_count": 10,
     "metadata": {},
     "output_type": "execute_result"
    }
   ],
   "source": [
    "\"\"\"Q5. Explain why with statement is used with open(). What is the advantage of using with statement and\n",
    "open() together?\n",
    "\n",
    "\n",
    "Ans= The with statement in Python provides a way to work with files and other resources in a more controlled and safe way.\n",
    "When we use the with statement with the open() function, it automatically takes care of closing the file once we are done with it,\n",
    "even if an exception is raised while working with the file.\n",
    "\n",
    "Example= with open(\"example.txt\", \"r\") as file:\n",
    "            content = file.read()\n",
    "            print(content)\n",
    "\n",
    "Advantage:- the advantage of using with statement and open() together is that it simplifies the process of working with files and makes the code more readable and safe.\n",
    "We don't have to worry about explicitly closing the file, which reduces the risk of resource leaks and errors in the code. Additionally, the code becomes more concise,\n",
    "as we don't have to write a separate close() statement for each file we work with.\"\"\""
   ]
  },
  {
   "cell_type": "code",
   "execution_count": 11,
   "id": "69ca9045",
   "metadata": {},
   "outputs": [
    {
     "data": {
      "text/plain": [
       "'Q6. Explain the write() and writelines() functions. Give a suitable example.\\n\\nAns= Write():- The write() function is used to write a string to a file. \\nIf the file does not exist, it will be created. If the file already exists,\\nthe contents of the file will be overwritten.\\n\\n   Example Of Wrie:-\\n   file = open(\"example.txt\", \"w\")  #opening a file\\n   file.write(\"This is the first line of the file\\n\") #writing in file with write()\\n   file.close()  #closing a file\\n   \\n\\nThe Writelines():-The writelines() function is used to write a list of strings to a file.\\nEach string in the list will be written to the file as a separate line.\\nIf the file does not exist, it will be created. If the file already exists, the contents of the file will be overwritten.\\n\\n\\nExample of Writelines():-\\n    file = open(\"example.txt\", \"w\")\\n    lines = [\"This is the first line of the file\\n\", \"This is the second line of the file\\n\",\\n    \"This is the third line of the file\\n\"]\\n    file.writelines(lines)\\n    file.close()'"
      ]
     },
     "execution_count": 11,
     "metadata": {},
     "output_type": "execute_result"
    }
   ],
   "source": [
    "'''Q6. Explain the write() and writelines() functions. Give a suitable example.\n",
    "\n",
    "Ans= Write():- The write() function is used to write a string to a file. \n",
    "If the file does not exist, it will be created. If the file already exists,\n",
    "the contents of the file will be overwritten.\n",
    "\n",
    "   Example Of Wrie:-\n",
    "   file = open(\"example.txt\", \"w\")  #opening a file\n",
    "   file.write(\"This is the first line of the file\\n\") #writing in file with write()\n",
    "   file.close()  #closing a file\n",
    "   \n",
    "\n",
    "The Writelines():-The writelines() function is used to write a list of strings to a file.\n",
    "Each string in the list will be written to the file as a separate line.\n",
    "If the file does not exist, it will be created. If the file already exists, the contents of the file will be overwritten.\n",
    "\n",
    "\n",
    "Example of Writelines():-\n",
    "    file = open(\"example.txt\", \"w\")\n",
    "    lines = [\"This is the first line of the file\\n\", \"This is the second line of the file\\n\",\n",
    "    \"This is the third line of the file\\n\"]\n",
    "    file.writelines(lines)\n",
    "    file.close()'''"
   ]
  },
  {
   "cell_type": "code",
   "execution_count": null,
   "id": "03bfe0ff",
   "metadata": {},
   "outputs": [],
   "source": []
  },
  {
   "cell_type": "code",
   "execution_count": null,
   "id": "859802d9",
   "metadata": {},
   "outputs": [],
   "source": []
  }
 ],
 "metadata": {
  "kernelspec": {
   "display_name": "Python 3 (ipykernel)",
   "language": "python",
   "name": "python3"
  },
  "language_info": {
   "codemirror_mode": {
    "name": "ipython",
    "version": 3
   },
   "file_extension": ".py",
   "mimetype": "text/x-python",
   "name": "python",
   "nbconvert_exporter": "python",
   "pygments_lexer": "ipython3",
   "version": "3.10.6"
  }
 },
 "nbformat": 4,
 "nbformat_minor": 5
}
